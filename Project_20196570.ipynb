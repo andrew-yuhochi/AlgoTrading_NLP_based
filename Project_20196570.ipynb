{
 "cells": [
  {
   "cell_type": "code",
   "execution_count": 1,
   "metadata": {},
   "outputs": [],
   "source": [
    "import numpy as np \n",
    "import pandas as pd \n",
    "from datetime import datetime\n",
    "import matplotlib.pyplot as plt\n",
    "import seaborn as sns\n",
    "import nltk\n",
    "from nltk.tokenize import word_tokenize\n",
    "from nltk.corpus import stopwords\n",
    "import string\n",
    "from nltk.stem import WordNetLemmatizer\n",
    "from sklearn.model_selection import train_test_split, GridSearchCV, cross_val_score, StratifiedKFold\n",
    "from wordcloud import WordCloud\n",
    "from collections import Counter\n",
    "from nltk.corpus import wordnet\n",
    "from sklearn.feature_extraction.text import CountVectorizer, TfidfVectorizer\n",
    "from xgboost import XGBClassifier\n",
    "from sklearn.metrics import confusion_matrix\n",
    "from sklearn.metrics import classification_report\n",
    "from sklearn.metrics import roc_curve, auc\n",
    "from sklearn.linear_model import LogisticRegression\n",
    "from sklearn import tree\n",
    "from sklearn import svm\n",
    "from sklearn.ensemble import RandomForestClassifier\n",
    "from datetime import timedelta "
   ]
  },
  {
   "cell_type": "code",
   "execution_count": 2,
   "metadata": {},
   "outputs": [],
   "source": [
    "# Convert muneric profit/Loss to Movement\n",
    "def move(x):\n",
    "    if x >= 0:\n",
    "        x = 1\n",
    "    else:\n",
    "        x = 0\n",
    "    return x "
   ]
  },
  {
   "cell_type": "code",
   "execution_count": 3,
   "metadata": {},
   "outputs": [],
   "source": [
    "def nltk_tag_to_wordnet_tag(nltk_tag):\n",
    "    if nltk_tag.startswith('J'):\n",
    "        return wordnet.ADJ\n",
    "    elif nltk_tag.startswith('V'):\n",
    "        return wordnet.VERB\n",
    "    elif nltk_tag.startswith('N'):\n",
    "        return wordnet.NOUN\n",
    "    elif nltk_tag.startswith('R'):\n",
    "        return wordnet.ADV\n",
    "    else:          \n",
    "        return None"
   ]
  },
  {
   "cell_type": "code",
   "execution_count": 4,
   "metadata": {},
   "outputs": [],
   "source": [
    "def data_cleaning(text):\n",
    "    token = word_tokenize(text) # tokenize the text into token (1gram- word)\n",
    "    token = [w.lower() for w in token] # lower the words into lower case\n",
    "    table = str.maketrans('', '', string.punctuation) # remove punctuation\n",
    "    stripped = [w.translate(table) for w in token] \n",
    "    word = [word for word in token if word.isalpha()] # remove non- alphabetic symbol\n",
    "    word = [w for w in word if not w in stopword] # remove stop word\n",
    "    text = \"\".join([\" \"+ i for i in word]).strip()\n",
    "    return text "
   ]
  },
  {
   "cell_type": "code",
   "execution_count": 5,
   "metadata": {},
   "outputs": [],
   "source": [
    "lemmatizer = WordNetLemmatizer()\n",
    "\n",
    "def lemmatize_sentence(sentence):\n",
    "    #tokenize the sentence and find the POS tag for each token\n",
    "    nltk_tagged = nltk.pos_tag(nltk.word_tokenize(sentence))  \n",
    "    #tuple of (token, wordnet_tag)\n",
    "    wordnet_tagged = map(lambda x: (x[0], nltk_tag_to_wordnet_tag(x[1])), nltk_tagged)\n",
    "    lemmatized_sentence = []\n",
    "    for word, tag in wordnet_tagged:\n",
    "        if tag is None:\n",
    "            #if there is no available tag, append the token as is\n",
    "            lemmatized_sentence.append(word)\n",
    "        else:        \n",
    "            #else use the tag to lemmatize the token\n",
    "            lemmatized_sentence.append(lemmatizer.lemmatize(word, tag))\n",
    "    return \" \".join(lemmatized_sentence)"
   ]
  },
  {
   "cell_type": "code",
   "execution_count": 6,
   "metadata": {},
   "outputs": [],
   "source": [
    "def performance(actual, predicted, predicted_proba):\n",
    "    CFmat = confusion_matrix(actual, predicted)\n",
    "    fig, ax = plt.subplots(figsize = (2.5,2.5))\n",
    "    ax.matshow(CFmat, cmap = plt.cm.Blues, alpha = 0.5)\n",
    "    for i in range(CFmat.shape[0]):\n",
    "        for j in range(CFmat.shape[1]):\n",
    "            ax.text(x = j, y = i, s = CFmat[i,j], va = \"center\", ha = \"center\")\n",
    "    plt.xlabel(\"Predicted Class\")\n",
    "    plt.ylabel(\"Actual (True) Class\")\n",
    "    plt.show()\n",
    "    print(classification_report(actual,predicted))\n",
    "    fpr, tpr, thresholds = roc_curve(actual, predicted_proba[:,1])\n",
    "    roc_auc = auc(fpr, tpr)\n",
    "    plt.title(\"Receiver Operating Characteristic Curve\")\n",
    "    plt.plot(fpr, tpr, \"b\", marker = \"o\", label = \"AUC = %0.3f\" % roc_auc)\n",
    "    plt.legend(loc = \"lower right\")\n",
    "    plt.plot([0,1],[0,1], \"r--\")\n",
    "    plt.xlim([0.0,1.0])\n",
    "    plt.ylim([0.0,1.0])\n",
    "    plt.ylabel(\"True Positive rate (Recall)\")\n",
    "    plt.xlabel(\"False Positive rate\")\n",
    "    plt.show()\n",
    "    return roc_auc"
   ]
  },
  {
   "cell_type": "code",
   "execution_count": 7,
   "metadata": {},
   "outputs": [],
   "source": [
    "def score(actual, predicted_proba):\n",
    "    fpr, tpr, thresholds = roc_curve(actual, predicted_proba[:,1])\n",
    "    roc_auc = auc(fpr, tpr)\n",
    "    return (roc_auc)"
   ]
  },
  {
   "cell_type": "markdown",
   "metadata": {},
   "source": [
    "# Read data and preprocessing"
   ]
  },
  {
   "cell_type": "code",
   "execution_count": 8,
   "metadata": {},
   "outputs": [
    {
     "data": {
      "text/html": [
       "<div>\n",
       "<style scoped>\n",
       "    .dataframe tbody tr th:only-of-type {\n",
       "        vertical-align: middle;\n",
       "    }\n",
       "\n",
       "    .dataframe tbody tr th {\n",
       "        vertical-align: top;\n",
       "    }\n",
       "\n",
       "    .dataframe thead th {\n",
       "        text-align: right;\n",
       "    }\n",
       "</style>\n",
       "<table border=\"1\" class=\"dataframe\">\n",
       "  <thead>\n",
       "    <tr style=\"text-align: right;\">\n",
       "      <th></th>\n",
       "      <th>Unnamed: 0</th>\n",
       "      <th>headline</th>\n",
       "      <th>url</th>\n",
       "      <th>publisher</th>\n",
       "      <th>date</th>\n",
       "      <th>stock</th>\n",
       "    </tr>\n",
       "  </thead>\n",
       "  <tbody>\n",
       "    <tr>\n",
       "      <th>0</th>\n",
       "      <td>2</td>\n",
       "      <td>Agilent Technologies Announces Pricing of $5……...</td>\n",
       "      <td>http://www.gurufocus.com/news/1153187/agilent-...</td>\n",
       "      <td>GuruFocus</td>\n",
       "      <td>2020-06-01 00:00:00</td>\n",
       "      <td>A</td>\n",
       "    </tr>\n",
       "    <tr>\n",
       "      <th>1</th>\n",
       "      <td>3</td>\n",
       "      <td>Agilent (A) Gears Up for Q2 Earnings: What's i...</td>\n",
       "      <td>http://www.zacks.com/stock/news/931205/agilent...</td>\n",
       "      <td>Zacks</td>\n",
       "      <td>2020-05-18 00:00:00</td>\n",
       "      <td>A</td>\n",
       "    </tr>\n",
       "    <tr>\n",
       "      <th>2</th>\n",
       "      <td>4</td>\n",
       "      <td>J.P. Morgan Asset Management Announces Liquida...</td>\n",
       "      <td>http://www.gurufocus.com/news/1138923/jp-morga...</td>\n",
       "      <td>GuruFocus</td>\n",
       "      <td>2020-05-15 00:00:00</td>\n",
       "      <td>A</td>\n",
       "    </tr>\n",
       "    <tr>\n",
       "      <th>3</th>\n",
       "      <td>5</td>\n",
       "      <td>Pershing Square Capital Management, L.P. Buys ...</td>\n",
       "      <td>http://www.gurufocus.com/news/1138704/pershing...</td>\n",
       "      <td>GuruFocus</td>\n",
       "      <td>2020-05-15 00:00:00</td>\n",
       "      <td>A</td>\n",
       "    </tr>\n",
       "    <tr>\n",
       "      <th>4</th>\n",
       "      <td>6</td>\n",
       "      <td>Agilent Awards Trilogy Sciences with a Golden ...</td>\n",
       "      <td>http://www.gurufocus.com/news/1134012/agilent-...</td>\n",
       "      <td>GuruFocus</td>\n",
       "      <td>2020-05-12 00:00:00</td>\n",
       "      <td>A</td>\n",
       "    </tr>\n",
       "  </tbody>\n",
       "</table>\n",
       "</div>"
      ],
      "text/plain": [
       "   Unnamed: 0                                           headline  \\\n",
       "0           2  Agilent Technologies Announces Pricing of $5……...   \n",
       "1           3  Agilent (A) Gears Up for Q2 Earnings: What's i...   \n",
       "2           4  J.P. Morgan Asset Management Announces Liquida...   \n",
       "3           5  Pershing Square Capital Management, L.P. Buys ...   \n",
       "4           6  Agilent Awards Trilogy Sciences with a Golden ...   \n",
       "\n",
       "                                                 url  publisher  \\\n",
       "0  http://www.gurufocus.com/news/1153187/agilent-...  GuruFocus   \n",
       "1  http://www.zacks.com/stock/news/931205/agilent...      Zacks   \n",
       "2  http://www.gurufocus.com/news/1138923/jp-morga...  GuruFocus   \n",
       "3  http://www.gurufocus.com/news/1138704/pershing...  GuruFocus   \n",
       "4  http://www.gurufocus.com/news/1134012/agilent-...  GuruFocus   \n",
       "\n",
       "                  date stock  \n",
       "0  2020-06-01 00:00:00     A  \n",
       "1  2020-05-18 00:00:00     A  \n",
       "2  2020-05-15 00:00:00     A  \n",
       "3  2020-05-15 00:00:00     A  \n",
       "4  2020-05-12 00:00:00     A  "
      ]
     },
     "execution_count": 8,
     "metadata": {},
     "output_type": "execute_result"
    }
   ],
   "source": [
    "df= pd.read_csv(\"/Users/andrewyu/MFIT 5003 /Project/raw_news.csv\")\n",
    "df.head()"
   ]
  },
  {
   "cell_type": "code",
   "execution_count": 9,
   "metadata": {},
   "outputs": [],
   "source": [
    "df.date = pd.to_datetime(df.date)"
   ]
  },
  {
   "cell_type": "code",
   "execution_count": 10,
   "metadata": {},
   "outputs": [],
   "source": [
    "df = df[df.date >= \"2012-01-01\"]"
   ]
  },
  {
   "cell_type": "code",
   "execution_count": 11,
   "metadata": {
    "scrolled": true
   },
   "outputs": [
    {
     "data": {
      "text/html": [
       "<div>\n",
       "<style scoped>\n",
       "    .dataframe tbody tr th:only-of-type {\n",
       "        vertical-align: middle;\n",
       "    }\n",
       "\n",
       "    .dataframe tbody tr th {\n",
       "        vertical-align: top;\n",
       "    }\n",
       "\n",
       "    .dataframe thead th {\n",
       "        text-align: right;\n",
       "    }\n",
       "</style>\n",
       "<table border=\"1\" class=\"dataframe\">\n",
       "  <thead>\n",
       "    <tr style=\"text-align: right;\">\n",
       "      <th></th>\n",
       "      <th>numer_of_nuews</th>\n",
       "    </tr>\n",
       "    <tr>\n",
       "      <th>date</th>\n",
       "      <th></th>\n",
       "    </tr>\n",
       "  </thead>\n",
       "  <tbody>\n",
       "    <tr>\n",
       "      <th>2012-01-01</th>\n",
       "      <td>89</td>\n",
       "    </tr>\n",
       "    <tr>\n",
       "      <th>2012-01-02</th>\n",
       "      <td>71</td>\n",
       "    </tr>\n",
       "    <tr>\n",
       "      <th>2012-01-03</th>\n",
       "      <td>269</td>\n",
       "    </tr>\n",
       "    <tr>\n",
       "      <th>2012-01-04</th>\n",
       "      <td>312</td>\n",
       "    </tr>\n",
       "    <tr>\n",
       "      <th>2012-01-05</th>\n",
       "      <td>120</td>\n",
       "    </tr>\n",
       "    <tr>\n",
       "      <th>...</th>\n",
       "      <td>...</td>\n",
       "    </tr>\n",
       "    <tr>\n",
       "      <th>2020-05-31</th>\n",
       "      <td>109</td>\n",
       "    </tr>\n",
       "    <tr>\n",
       "      <th>2020-06-01</th>\n",
       "      <td>372</td>\n",
       "    </tr>\n",
       "    <tr>\n",
       "      <th>2020-06-02</th>\n",
       "      <td>338</td>\n",
       "    </tr>\n",
       "    <tr>\n",
       "      <th>2020-06-03</th>\n",
       "      <td>334</td>\n",
       "    </tr>\n",
       "    <tr>\n",
       "      <th>2020-06-04</th>\n",
       "      <td>149</td>\n",
       "    </tr>\n",
       "  </tbody>\n",
       "</table>\n",
       "<p>3056 rows × 1 columns</p>\n",
       "</div>"
      ],
      "text/plain": [
       "            numer_of_nuews\n",
       "date                      \n",
       "2012-01-01              89\n",
       "2012-01-02              71\n",
       "2012-01-03             269\n",
       "2012-01-04             312\n",
       "2012-01-05             120\n",
       "...                    ...\n",
       "2020-05-31             109\n",
       "2020-06-01             372\n",
       "2020-06-02             338\n",
       "2020-06-03             334\n",
       "2020-06-04             149\n",
       "\n",
       "[3056 rows x 1 columns]"
      ]
     },
     "execution_count": 11,
     "metadata": {},
     "output_type": "execute_result"
    }
   ],
   "source": [
    "df.groupby(\"date\").agg(numer_of_nuews = pd.NamedAgg(column = \"headline\", aggfunc = len))"
   ]
  },
  {
   "cell_type": "code",
   "execution_count": 12,
   "metadata": {},
   "outputs": [
    {
     "data": {
      "text/html": [
       "<div>\n",
       "<style scoped>\n",
       "    .dataframe tbody tr th:only-of-type {\n",
       "        vertical-align: middle;\n",
       "    }\n",
       "\n",
       "    .dataframe tbody tr th {\n",
       "        vertical-align: top;\n",
       "    }\n",
       "\n",
       "    .dataframe thead th {\n",
       "        text-align: right;\n",
       "    }\n",
       "</style>\n",
       "<table border=\"1\" class=\"dataframe\">\n",
       "  <thead>\n",
       "    <tr style=\"text-align: right;\">\n",
       "      <th></th>\n",
       "      <th>Unnamed: 0</th>\n",
       "      <th>headline</th>\n",
       "      <th>url</th>\n",
       "      <th>publisher</th>\n",
       "      <th>date</th>\n",
       "      <th>stock</th>\n",
       "    </tr>\n",
       "  </thead>\n",
       "  <tbody>\n",
       "    <tr>\n",
       "      <th>1845554</th>\n",
       "      <td>1849874</td>\n",
       "      <td>Consumer Cyclical Sector Wrap</td>\n",
       "      <td>https://www.benzinga.com/content/12/08/2846030...</td>\n",
       "      <td>webmaster</td>\n",
       "      <td>2012-08-20</td>\n",
       "      <td>ZX</td>\n",
       "    </tr>\n",
       "    <tr>\n",
       "      <th>1845555</th>\n",
       "      <td>1849875</td>\n",
       "      <td>Consumer Cyclical Sector Wrap</td>\n",
       "      <td>https://www.benzinga.com/content/12/07/2767124...</td>\n",
       "      <td>webmaster</td>\n",
       "      <td>2012-07-23</td>\n",
       "      <td>ZX</td>\n",
       "    </tr>\n",
       "    <tr>\n",
       "      <th>1845556</th>\n",
       "      <td>1849876</td>\n",
       "      <td>Zacks #5 Rank Additions for Monday - Tale of t...</td>\n",
       "      <td>http://www.zacks.com/stock/news/73497/here-are...</td>\n",
       "      <td>Zacks</td>\n",
       "      <td>2012-04-23</td>\n",
       "      <td>ZX</td>\n",
       "    </tr>\n",
       "    <tr>\n",
       "      <th>1845557</th>\n",
       "      <td>1849877</td>\n",
       "      <td>4 Stock Strategies From Wall Street: Feb. 9 (U...</td>\n",
       "      <td>http://www.thestreet.com/story/11409053/1/4-st...</td>\n",
       "      <td>TheStreet.Com</td>\n",
       "      <td>2012-02-09</td>\n",
       "      <td>ZX</td>\n",
       "    </tr>\n",
       "    <tr>\n",
       "      <th>1845558</th>\n",
       "      <td>1849878</td>\n",
       "      <td>4 Stock Strategies From Wall Street: Feb. 9</td>\n",
       "      <td>https://www.benzinga.com/content/thestreet-com...</td>\n",
       "      <td>webmaster</td>\n",
       "      <td>2012-02-09</td>\n",
       "      <td>ZX</td>\n",
       "    </tr>\n",
       "  </tbody>\n",
       "</table>\n",
       "</div>"
      ],
      "text/plain": [
       "         Unnamed: 0                                           headline  \\\n",
       "1845554     1849874                      Consumer Cyclical Sector Wrap   \n",
       "1845555     1849875                      Consumer Cyclical Sector Wrap   \n",
       "1845556     1849876  Zacks #5 Rank Additions for Monday - Tale of t...   \n",
       "1845557     1849877  4 Stock Strategies From Wall Street: Feb. 9 (U...   \n",
       "1845558     1849878        4 Stock Strategies From Wall Street: Feb. 9   \n",
       "\n",
       "                                                       url      publisher  \\\n",
       "1845554  https://www.benzinga.com/content/12/08/2846030...      webmaster   \n",
       "1845555  https://www.benzinga.com/content/12/07/2767124...      webmaster   \n",
       "1845556  http://www.zacks.com/stock/news/73497/here-are...          Zacks   \n",
       "1845557  http://www.thestreet.com/story/11409053/1/4-st...  TheStreet.Com   \n",
       "1845558  https://www.benzinga.com/content/thestreet-com...      webmaster   \n",
       "\n",
       "              date stock  \n",
       "1845554 2012-08-20    ZX  \n",
       "1845555 2012-07-23    ZX  \n",
       "1845556 2012-04-23    ZX  \n",
       "1845557 2012-02-09    ZX  \n",
       "1845558 2012-02-09    ZX  "
      ]
     },
     "execution_count": 12,
     "metadata": {},
     "output_type": "execute_result"
    }
   ],
   "source": [
    "df.tail()"
   ]
  },
  {
   "cell_type": "code",
   "execution_count": 13,
   "metadata": {},
   "outputs": [
    {
     "data": {
      "text/html": [
       "<div>\n",
       "<style scoped>\n",
       "    .dataframe tbody tr th:only-of-type {\n",
       "        vertical-align: middle;\n",
       "    }\n",
       "\n",
       "    .dataframe tbody tr th {\n",
       "        vertical-align: top;\n",
       "    }\n",
       "\n",
       "    .dataframe thead th {\n",
       "        text-align: right;\n",
       "    }\n",
       "</style>\n",
       "<table border=\"1\" class=\"dataframe\">\n",
       "  <thead>\n",
       "    <tr style=\"text-align: right;\">\n",
       "      <th></th>\n",
       "      <th>Date</th>\n",
       "      <th>Open</th>\n",
       "      <th>High</th>\n",
       "      <th>Low</th>\n",
       "      <th>Close</th>\n",
       "      <th>Adj Close</th>\n",
       "      <th>Volume</th>\n",
       "    </tr>\n",
       "  </thead>\n",
       "  <tbody>\n",
       "    <tr>\n",
       "      <th>0</th>\n",
       "      <td>2012-01-03</td>\n",
       "      <td>1258.859985</td>\n",
       "      <td>1284.619995</td>\n",
       "      <td>1258.859985</td>\n",
       "      <td>1277.060059</td>\n",
       "      <td>1277.060059</td>\n",
       "      <td>3943710000</td>\n",
       "    </tr>\n",
       "    <tr>\n",
       "      <th>1</th>\n",
       "      <td>2012-01-04</td>\n",
       "      <td>1277.030029</td>\n",
       "      <td>1278.729980</td>\n",
       "      <td>1268.099976</td>\n",
       "      <td>1277.300049</td>\n",
       "      <td>1277.300049</td>\n",
       "      <td>3592580000</td>\n",
       "    </tr>\n",
       "    <tr>\n",
       "      <th>2</th>\n",
       "      <td>2012-01-05</td>\n",
       "      <td>1277.300049</td>\n",
       "      <td>1283.050049</td>\n",
       "      <td>1265.260010</td>\n",
       "      <td>1281.060059</td>\n",
       "      <td>1281.060059</td>\n",
       "      <td>4315950000</td>\n",
       "    </tr>\n",
       "    <tr>\n",
       "      <th>3</th>\n",
       "      <td>2012-01-06</td>\n",
       "      <td>1280.930054</td>\n",
       "      <td>1281.839966</td>\n",
       "      <td>1273.339966</td>\n",
       "      <td>1277.810059</td>\n",
       "      <td>1277.810059</td>\n",
       "      <td>3656830000</td>\n",
       "    </tr>\n",
       "    <tr>\n",
       "      <th>4</th>\n",
       "      <td>2012-01-09</td>\n",
       "      <td>1277.829956</td>\n",
       "      <td>1281.989990</td>\n",
       "      <td>1274.550049</td>\n",
       "      <td>1280.699951</td>\n",
       "      <td>1280.699951</td>\n",
       "      <td>3371600000</td>\n",
       "    </tr>\n",
       "  </tbody>\n",
       "</table>\n",
       "</div>"
      ],
      "text/plain": [
       "         Date         Open         High          Low        Close  \\\n",
       "0  2012-01-03  1258.859985  1284.619995  1258.859985  1277.060059   \n",
       "1  2012-01-04  1277.030029  1278.729980  1268.099976  1277.300049   \n",
       "2  2012-01-05  1277.300049  1283.050049  1265.260010  1281.060059   \n",
       "3  2012-01-06  1280.930054  1281.839966  1273.339966  1277.810059   \n",
       "4  2012-01-09  1277.829956  1281.989990  1274.550049  1280.699951   \n",
       "\n",
       "     Adj Close      Volume  \n",
       "0  1277.060059  3943710000  \n",
       "1  1277.300049  3592580000  \n",
       "2  1281.060059  4315950000  \n",
       "3  1277.810059  3656830000  \n",
       "4  1280.699951  3371600000  "
      ]
     },
     "execution_count": 13,
     "metadata": {},
     "output_type": "execute_result"
    }
   ],
   "source": [
    "price = pd.read_csv(\"/Users/andrewyu/MFIT 5003 /Project/sp500.csv\")\n",
    "price.head()"
   ]
  },
  {
   "cell_type": "code",
   "execution_count": 14,
   "metadata": {},
   "outputs": [],
   "source": [
    "profit = np.diff(price[\"Adj Close\"])\n",
    "row1 = price.iloc[0,5] - price.iloc[0,1] \n",
    "Movement = np.append(row1, profit)"
   ]
  },
  {
   "cell_type": "code",
   "execution_count": 15,
   "metadata": {},
   "outputs": [],
   "source": [
    "price = pd.DataFrame({\"date\": price.Date, \"Movement\": Movement})"
   ]
  },
  {
   "cell_type": "code",
   "execution_count": 16,
   "metadata": {},
   "outputs": [],
   "source": [
    "price.Movement = price.Movement.apply(move)"
   ]
  },
  {
   "cell_type": "code",
   "execution_count": 17,
   "metadata": {},
   "outputs": [
    {
     "data": {
      "text/html": [
       "<div>\n",
       "<style scoped>\n",
       "    .dataframe tbody tr th:only-of-type {\n",
       "        vertical-align: middle;\n",
       "    }\n",
       "\n",
       "    .dataframe tbody tr th {\n",
       "        vertical-align: top;\n",
       "    }\n",
       "\n",
       "    .dataframe thead th {\n",
       "        text-align: right;\n",
       "    }\n",
       "</style>\n",
       "<table border=\"1\" class=\"dataframe\">\n",
       "  <thead>\n",
       "    <tr style=\"text-align: right;\">\n",
       "      <th></th>\n",
       "      <th>date</th>\n",
       "      <th>Movement</th>\n",
       "    </tr>\n",
       "  </thead>\n",
       "  <tbody>\n",
       "    <tr>\n",
       "      <th>0</th>\n",
       "      <td>2012-01-03</td>\n",
       "      <td>1</td>\n",
       "    </tr>\n",
       "    <tr>\n",
       "      <th>1</th>\n",
       "      <td>2012-01-04</td>\n",
       "      <td>1</td>\n",
       "    </tr>\n",
       "    <tr>\n",
       "      <th>2</th>\n",
       "      <td>2012-01-05</td>\n",
       "      <td>1</td>\n",
       "    </tr>\n",
       "    <tr>\n",
       "      <th>3</th>\n",
       "      <td>2012-01-06</td>\n",
       "      <td>0</td>\n",
       "    </tr>\n",
       "    <tr>\n",
       "      <th>4</th>\n",
       "      <td>2012-01-09</td>\n",
       "      <td>1</td>\n",
       "    </tr>\n",
       "    <tr>\n",
       "      <th>...</th>\n",
       "      <td>...</td>\n",
       "      <td>...</td>\n",
       "    </tr>\n",
       "    <tr>\n",
       "      <th>2115</th>\n",
       "      <td>2020-06-01</td>\n",
       "      <td>1</td>\n",
       "    </tr>\n",
       "    <tr>\n",
       "      <th>2116</th>\n",
       "      <td>2020-06-02</td>\n",
       "      <td>1</td>\n",
       "    </tr>\n",
       "    <tr>\n",
       "      <th>2117</th>\n",
       "      <td>2020-06-03</td>\n",
       "      <td>1</td>\n",
       "    </tr>\n",
       "    <tr>\n",
       "      <th>2118</th>\n",
       "      <td>2020-06-04</td>\n",
       "      <td>0</td>\n",
       "    </tr>\n",
       "    <tr>\n",
       "      <th>2119</th>\n",
       "      <td>2020-06-05</td>\n",
       "      <td>1</td>\n",
       "    </tr>\n",
       "  </tbody>\n",
       "</table>\n",
       "<p>2120 rows × 2 columns</p>\n",
       "</div>"
      ],
      "text/plain": [
       "            date  Movement\n",
       "0     2012-01-03         1\n",
       "1     2012-01-04         1\n",
       "2     2012-01-05         1\n",
       "3     2012-01-06         0\n",
       "4     2012-01-09         1\n",
       "...          ...       ...\n",
       "2115  2020-06-01         1\n",
       "2116  2020-06-02         1\n",
       "2117  2020-06-03         1\n",
       "2118  2020-06-04         0\n",
       "2119  2020-06-05         1\n",
       "\n",
       "[2120 rows x 2 columns]"
      ]
     },
     "execution_count": 17,
     "metadata": {},
     "output_type": "execute_result"
    }
   ],
   "source": [
    "price"
   ]
  },
  {
   "cell_type": "code",
   "execution_count": 18,
   "metadata": {},
   "outputs": [],
   "source": [
    "price.date = pd.to_datetime(price.date)"
   ]
  },
  {
   "cell_type": "code",
   "execution_count": 19,
   "metadata": {},
   "outputs": [],
   "source": [
    "df = pd.merge(df, price, on= \"date\", how = \"left\")"
   ]
  },
  {
   "cell_type": "code",
   "execution_count": 20,
   "metadata": {},
   "outputs": [
    {
     "data": {
      "text/plain": [
       "131683"
      ]
     },
     "execution_count": 20,
     "metadata": {},
     "output_type": "execute_result"
    }
   ],
   "source": [
    "df['Movement'].isnull().sum()"
   ]
  },
  {
   "cell_type": "code",
   "execution_count": 21,
   "metadata": {},
   "outputs": [
    {
     "name": "stdout",
     "output_type": "stream",
     "text": [
      "54113\n",
      "6309\n",
      "13\n",
      "0\n"
     ]
    }
   ],
   "source": [
    "# add 1 day if the release day is a holiday\n",
    "count = 9999\n",
    "while count !=0 :\n",
    "    df.loc[df.Movement.isnull(), \"date\"] = df.loc[df.Movement.isnull(), \"date\"] + pd.Timedelta(days=1) \n",
    "    df = df.drop(columns = \"Movement\")\n",
    "    df = pd.merge(df, price, on= \"date\", how = \"left\")\n",
    "    count = df['Movement'].isnull().sum()\n",
    "    print(count)"
   ]
  },
  {
   "cell_type": "code",
   "execution_count": 22,
   "metadata": {},
   "outputs": [
    {
     "data": {
      "text/html": [
       "<div>\n",
       "<style scoped>\n",
       "    .dataframe tbody tr th:only-of-type {\n",
       "        vertical-align: middle;\n",
       "    }\n",
       "\n",
       "    .dataframe tbody tr th {\n",
       "        vertical-align: top;\n",
       "    }\n",
       "\n",
       "    .dataframe thead th {\n",
       "        text-align: right;\n",
       "    }\n",
       "</style>\n",
       "<table border=\"1\" class=\"dataframe\">\n",
       "  <thead>\n",
       "    <tr style=\"text-align: right;\">\n",
       "      <th></th>\n",
       "      <th>Unnamed: 0</th>\n",
       "      <th>headline</th>\n",
       "      <th>url</th>\n",
       "      <th>publisher</th>\n",
       "      <th>date</th>\n",
       "      <th>stock</th>\n",
       "      <th>Movement</th>\n",
       "    </tr>\n",
       "  </thead>\n",
       "  <tbody>\n",
       "    <tr>\n",
       "      <th>0</th>\n",
       "      <td>2</td>\n",
       "      <td>Agilent Technologies Announces Pricing of $5……...</td>\n",
       "      <td>http://www.gurufocus.com/news/1153187/agilent-...</td>\n",
       "      <td>GuruFocus</td>\n",
       "      <td>2020-06-01</td>\n",
       "      <td>A</td>\n",
       "      <td>1</td>\n",
       "    </tr>\n",
       "    <tr>\n",
       "      <th>1</th>\n",
       "      <td>3</td>\n",
       "      <td>Agilent (A) Gears Up for Q2 Earnings: What's i...</td>\n",
       "      <td>http://www.zacks.com/stock/news/931205/agilent...</td>\n",
       "      <td>Zacks</td>\n",
       "      <td>2020-05-18</td>\n",
       "      <td>A</td>\n",
       "      <td>1</td>\n",
       "    </tr>\n",
       "    <tr>\n",
       "      <th>2</th>\n",
       "      <td>4</td>\n",
       "      <td>J.P. Morgan Asset Management Announces Liquida...</td>\n",
       "      <td>http://www.gurufocus.com/news/1138923/jp-morga...</td>\n",
       "      <td>GuruFocus</td>\n",
       "      <td>2020-05-15</td>\n",
       "      <td>A</td>\n",
       "      <td>1</td>\n",
       "    </tr>\n",
       "    <tr>\n",
       "      <th>3</th>\n",
       "      <td>5</td>\n",
       "      <td>Pershing Square Capital Management, L.P. Buys ...</td>\n",
       "      <td>http://www.gurufocus.com/news/1138704/pershing...</td>\n",
       "      <td>GuruFocus</td>\n",
       "      <td>2020-05-15</td>\n",
       "      <td>A</td>\n",
       "      <td>1</td>\n",
       "    </tr>\n",
       "    <tr>\n",
       "      <th>4</th>\n",
       "      <td>6</td>\n",
       "      <td>Agilent Awards Trilogy Sciences with a Golden ...</td>\n",
       "      <td>http://www.gurufocus.com/news/1134012/agilent-...</td>\n",
       "      <td>GuruFocus</td>\n",
       "      <td>2020-05-12</td>\n",
       "      <td>A</td>\n",
       "      <td>0</td>\n",
       "    </tr>\n",
       "  </tbody>\n",
       "</table>\n",
       "</div>"
      ],
      "text/plain": [
       "   Unnamed: 0                                           headline  \\\n",
       "0           2  Agilent Technologies Announces Pricing of $5……...   \n",
       "1           3  Agilent (A) Gears Up for Q2 Earnings: What's i...   \n",
       "2           4  J.P. Morgan Asset Management Announces Liquida...   \n",
       "3           5  Pershing Square Capital Management, L.P. Buys ...   \n",
       "4           6  Agilent Awards Trilogy Sciences with a Golden ...   \n",
       "\n",
       "                                                 url  publisher       date  \\\n",
       "0  http://www.gurufocus.com/news/1153187/agilent-...  GuruFocus 2020-06-01   \n",
       "1  http://www.zacks.com/stock/news/931205/agilent...      Zacks 2020-05-18   \n",
       "2  http://www.gurufocus.com/news/1138923/jp-morga...  GuruFocus 2020-05-15   \n",
       "3  http://www.gurufocus.com/news/1138704/pershing...  GuruFocus 2020-05-15   \n",
       "4  http://www.gurufocus.com/news/1134012/agilent-...  GuruFocus 2020-05-12   \n",
       "\n",
       "  stock  Movement  \n",
       "0     A         1  \n",
       "1     A         1  \n",
       "2     A         1  \n",
       "3     A         1  \n",
       "4     A         0  "
      ]
     },
     "execution_count": 22,
     "metadata": {},
     "output_type": "execute_result"
    }
   ],
   "source": [
    "df.head()"
   ]
  },
  {
   "cell_type": "code",
   "execution_count": 23,
   "metadata": {},
   "outputs": [],
   "source": [
    "df = df.drop([\"Unnamed: 0\", \"url\", \"stock\", \"publisher\"], axis = 1)"
   ]
  },
  {
   "cell_type": "code",
   "execution_count": 24,
   "metadata": {},
   "outputs": [
    {
     "data": {
      "text/html": [
       "<div>\n",
       "<style scoped>\n",
       "    .dataframe tbody tr th:only-of-type {\n",
       "        vertical-align: middle;\n",
       "    }\n",
       "\n",
       "    .dataframe tbody tr th {\n",
       "        vertical-align: top;\n",
       "    }\n",
       "\n",
       "    .dataframe thead th {\n",
       "        text-align: right;\n",
       "    }\n",
       "</style>\n",
       "<table border=\"1\" class=\"dataframe\">\n",
       "  <thead>\n",
       "    <tr style=\"text-align: right;\">\n",
       "      <th></th>\n",
       "      <th>headline</th>\n",
       "      <th>date</th>\n",
       "      <th>Movement</th>\n",
       "    </tr>\n",
       "  </thead>\n",
       "  <tbody>\n",
       "    <tr>\n",
       "      <th>0</th>\n",
       "      <td>Agilent Technologies Announces Pricing of $5……...</td>\n",
       "      <td>2020-06-01</td>\n",
       "      <td>1</td>\n",
       "    </tr>\n",
       "    <tr>\n",
       "      <th>1</th>\n",
       "      <td>Agilent (A) Gears Up for Q2 Earnings: What's i...</td>\n",
       "      <td>2020-05-18</td>\n",
       "      <td>1</td>\n",
       "    </tr>\n",
       "    <tr>\n",
       "      <th>2</th>\n",
       "      <td>J.P. Morgan Asset Management Announces Liquida...</td>\n",
       "      <td>2020-05-15</td>\n",
       "      <td>1</td>\n",
       "    </tr>\n",
       "    <tr>\n",
       "      <th>3</th>\n",
       "      <td>Pershing Square Capital Management, L.P. Buys ...</td>\n",
       "      <td>2020-05-15</td>\n",
       "      <td>1</td>\n",
       "    </tr>\n",
       "    <tr>\n",
       "      <th>4</th>\n",
       "      <td>Agilent Awards Trilogy Sciences with a Golden ...</td>\n",
       "      <td>2020-05-12</td>\n",
       "      <td>0</td>\n",
       "    </tr>\n",
       "  </tbody>\n",
       "</table>\n",
       "</div>"
      ],
      "text/plain": [
       "                                            headline       date  Movement\n",
       "0  Agilent Technologies Announces Pricing of $5……... 2020-06-01         1\n",
       "1  Agilent (A) Gears Up for Q2 Earnings: What's i... 2020-05-18         1\n",
       "2  J.P. Morgan Asset Management Announces Liquida... 2020-05-15         1\n",
       "3  Pershing Square Capital Management, L.P. Buys ... 2020-05-15         1\n",
       "4  Agilent Awards Trilogy Sciences with a Golden ... 2020-05-12         0"
      ]
     },
     "execution_count": 24,
     "metadata": {},
     "output_type": "execute_result"
    }
   ],
   "source": [
    "df.head()"
   ]
  },
  {
   "cell_type": "code",
   "execution_count": 25,
   "metadata": {},
   "outputs": [],
   "source": [
    "df[\"headline\"] = df[['date','Movement','headline']].groupby(['date'])['headline'].transform(lambda x: ' '.join(x))\n"
   ]
  },
  {
   "cell_type": "code",
   "execution_count": 26,
   "metadata": {},
   "outputs": [],
   "source": [
    "df = df[['date','Movement','headline']].drop_duplicates()"
   ]
  },
  {
   "cell_type": "code",
   "execution_count": 27,
   "metadata": {},
   "outputs": [
    {
     "data": {
      "text/plain": [
       "(2112, 3)"
      ]
     },
     "execution_count": 27,
     "metadata": {},
     "output_type": "execute_result"
    }
   ],
   "source": [
    "df.shape"
   ]
  },
  {
   "cell_type": "code",
   "execution_count": 28,
   "metadata": {},
   "outputs": [],
   "source": [
    "stopword = stopwords.words('english')\n",
    "df.headline = df.headline.apply(data_cleaning)\n",
    "df.headline = df.headline.apply(lemmatize_sentence)"
   ]
  },
  {
   "cell_type": "code",
   "execution_count": 29,
   "metadata": {},
   "outputs": [
    {
     "data": {
      "text/plain": [
       "422.40000000000003"
      ]
     },
     "execution_count": 29,
     "metadata": {},
     "output_type": "execute_result"
    }
   ],
   "source": [
    "# split the data into train set and test set by dat (60-20-20)\n",
    "len(df)*0.2"
   ]
  },
  {
   "cell_type": "code",
   "execution_count": 30,
   "metadata": {},
   "outputs": [
    {
     "data": {
      "text/plain": [
       "422"
      ]
     },
     "execution_count": 30,
     "metadata": {},
     "output_type": "execute_result"
    }
   ],
   "source": [
    "(df.date >= \"2018-10-01\").sum()"
   ]
  },
  {
   "cell_type": "code",
   "execution_count": 31,
   "metadata": {},
   "outputs": [
    {
     "data": {
      "text/plain": [
       "841"
      ]
     },
     "execution_count": 31,
     "metadata": {},
     "output_type": "execute_result"
    }
   ],
   "source": [
    "(df.date >= \"2017-02-01\").sum()"
   ]
  },
  {
   "cell_type": "code",
   "execution_count": 32,
   "metadata": {},
   "outputs": [],
   "source": [
    "test = df[df.date >= \"2018-10-01\"]\n",
    "validation = df[(df.date >= \"2017-02-01\") & (df.date < \"2018-10-01\")]\n",
    "train = df[df.date < \"2017-02-01\"]"
   ]
  },
  {
   "cell_type": "code",
   "execution_count": 33,
   "metadata": {},
   "outputs": [
    {
     "data": {
      "text/plain": [
       "1271"
      ]
     },
     "execution_count": 33,
     "metadata": {},
     "output_type": "execute_result"
    }
   ],
   "source": [
    "len(train)"
   ]
  },
  {
   "cell_type": "code",
   "execution_count": 34,
   "metadata": {},
   "outputs": [],
   "source": [
    "train = train.reset_index(drop=True)\n",
    "test = test.reset_index(drop=True)\n",
    "validation = validation.reset_index(drop=True)"
   ]
  },
  {
   "cell_type": "code",
   "execution_count": 35,
   "metadata": {},
   "outputs": [
    {
     "data": {
      "text/html": [
       "<div>\n",
       "<style scoped>\n",
       "    .dataframe tbody tr th:only-of-type {\n",
       "        vertical-align: middle;\n",
       "    }\n",
       "\n",
       "    .dataframe tbody tr th {\n",
       "        vertical-align: top;\n",
       "    }\n",
       "\n",
       "    .dataframe thead th {\n",
       "        text-align: right;\n",
       "    }\n",
       "</style>\n",
       "<table border=\"1\" class=\"dataframe\">\n",
       "  <thead>\n",
       "    <tr style=\"text-align: right;\">\n",
       "      <th></th>\n",
       "      <th>date</th>\n",
       "      <th>Movement</th>\n",
       "      <th>headline</th>\n",
       "    </tr>\n",
       "  </thead>\n",
       "  <tbody>\n",
       "    <tr>\n",
       "      <th>0</th>\n",
       "      <td>2016-12-20</td>\n",
       "      <td>1</td>\n",
       "      <td>agilent acquire belgian molecular diagnostics ...</td>\n",
       "    </tr>\n",
       "    <tr>\n",
       "      <th>1</th>\n",
       "      <td>2016-12-09</td>\n",
       "      <td>1</td>\n",
       "      <td>cancer immunotherapy market takeaway expect al...</td>\n",
       "    </tr>\n",
       "    <tr>\n",
       "      <th>2</th>\n",
       "      <td>2016-12-06</td>\n",
       "      <td>1</td>\n",
       "      <td>agilent technology raise dividend small indust...</td>\n",
       "    </tr>\n",
       "    <tr>\n",
       "      <th>3</th>\n",
       "      <td>2016-11-30</td>\n",
       "      <td>0</td>\n",
       "      <td>growth stock land value stock goldcorp outshin...</td>\n",
       "    </tr>\n",
       "    <tr>\n",
       "      <th>4</th>\n",
       "      <td>2016-11-17</td>\n",
       "      <td>1</td>\n",
       "      <td>agilent technology declare dividend share adva...</td>\n",
       "    </tr>\n",
       "  </tbody>\n",
       "</table>\n",
       "</div>"
      ],
      "text/plain": [
       "        date  Movement                                           headline\n",
       "0 2016-12-20         1  agilent acquire belgian molecular diagnostics ...\n",
       "1 2016-12-09         1  cancer immunotherapy market takeaway expect al...\n",
       "2 2016-12-06         1  agilent technology raise dividend small indust...\n",
       "3 2016-11-30         0  growth stock land value stock goldcorp outshin...\n",
       "4 2016-11-17         1  agilent technology declare dividend share adva..."
      ]
     },
     "execution_count": 35,
     "metadata": {},
     "output_type": "execute_result"
    }
   ],
   "source": [
    "train.head()"
   ]
  },
  {
   "cell_type": "markdown",
   "metadata": {},
   "source": [
    "# Exploratory Data analysis"
   ]
  },
  {
   "cell_type": "code",
   "execution_count": 36,
   "metadata": {
    "scrolled": true
   },
   "outputs": [
    {
     "name": "stdout",
     "output_type": "stream",
     "text": [
      "AxesSubplot(0.125,0.125;0.775x0.755)\n"
     ]
    },
    {
     "data": {
      "image/png": "[encoded data removed]",
      "text/plain": [
       "<Figure size 432x288 with 1 Axes>"
      ]
     },
     "metadata": {
      "needs_background": "light"
     },
     "output_type": "display_data"
    }
   ],
   "source": [
    "print(sns.countplot(y=\"Movement\", data=train))"
   ]
  },
  {
   "cell_type": "code",
   "execution_count": 37,
   "metadata": {},
   "outputs": [],
   "source": [
    "UP = train[train.Movement == 1] \n",
    "DOWN = train[train.Movement == 0]"
   ]
  },
  {
   "cell_type": "code",
   "execution_count": 38,
   "metadata": {},
   "outputs": [
    {
     "data": {
      "text/plain": [
       "<matplotlib.image.AxesImage at 0x7fa5253b61c0>"
      ]
     },
     "execution_count": 38,
     "metadata": {},
     "output_type": "execute_result"
    },
    {
     "data": {
      "image/png": "[encoded data removed]",
      "text/plain": [
       "<Figure size 432x288 with 1 Axes>"
      ]
     },
     "metadata": {
      "needs_background": "light"
     },
     "output_type": "display_data"
    }
   ],
   "source": [
    "wordcloud = WordCloud(max_words=200).generate(\" \".join(UP.headline))\n",
    "plt.imshow(wordcloud,interpolation = 'bilinear')"
   ]
  },
  {
   "cell_type": "code",
   "execution_count": 39,
   "metadata": {
    "scrolled": true
   },
   "outputs": [
    {
     "data": {
      "text/plain": [
       "<matplotlib.image.AxesImage at 0x7fa4cbab8460>"
      ]
     },
     "execution_count": 39,
     "metadata": {},
     "output_type": "execute_result"
    },
    {
     "data": {
      "image/png": "[encoded data removed]",
      "text/plain": [
       "<Figure size 432x288 with 1 Axes>"
      ]
     },
     "metadata": {
      "needs_background": "light"
     },
     "output_type": "display_data"
    }
   ],
   "source": [
    "wordcloud = WordCloud(max_words=200).generate(\" \".join(DOWN.headline))\n",
    "plt.imshow(wordcloud,interpolation = 'bilinear')"
   ]
  },
  {
   "cell_type": "code",
   "execution_count": 40,
   "metadata": {},
   "outputs": [],
   "source": [
    "text = \" \".join(UP.headline)\n",
    "most_occur = Counter(text.split()).most_common(20)"
   ]
  },
  {
   "cell_type": "code",
   "execution_count": 41,
   "metadata": {},
   "outputs": [
    {
     "data": {
      "text/html": [
       "<div>\n",
       "<style scoped>\n",
       "    .dataframe tbody tr th:only-of-type {\n",
       "        vertical-align: middle;\n",
       "    }\n",
       "\n",
       "    .dataframe tbody tr th {\n",
       "        vertical-align: top;\n",
       "    }\n",
       "\n",
       "    .dataframe thead th {\n",
       "        text-align: right;\n",
       "    }\n",
       "</style>\n",
       "<table border=\"1\" class=\"dataframe\">\n",
       "  <thead>\n",
       "    <tr style=\"text-align: right;\">\n",
       "      <th></th>\n",
       "      <th>word</th>\n",
       "      <th>frequency</th>\n",
       "    </tr>\n",
       "  </thead>\n",
       "  <tbody>\n",
       "    <tr>\n",
       "      <th>0</th>\n",
       "      <td>analyst</td>\n",
       "      <td>84487</td>\n",
       "    </tr>\n",
       "    <tr>\n",
       "      <th>1</th>\n",
       "      <td>blog</td>\n",
       "      <td>80696</td>\n",
       "    </tr>\n",
       "    <tr>\n",
       "      <th>2</th>\n",
       "      <td>stock</td>\n",
       "      <td>61591</td>\n",
       "    </tr>\n",
       "    <tr>\n",
       "      <th>3</th>\n",
       "      <td>earnings</td>\n",
       "      <td>50530</td>\n",
       "    </tr>\n",
       "    <tr>\n",
       "      <th>4</th>\n",
       "      <td>beat</td>\n",
       "      <td>22089</td>\n",
       "    </tr>\n",
       "    <tr>\n",
       "      <th>5</th>\n",
       "      <td>dividend</td>\n",
       "      <td>21749</td>\n",
       "    </tr>\n",
       "    <tr>\n",
       "      <th>6</th>\n",
       "      <td>result</td>\n",
       "      <td>20968</td>\n",
       "    </tr>\n",
       "    <tr>\n",
       "      <th>7</th>\n",
       "      <td>high</td>\n",
       "      <td>19596</td>\n",
       "    </tr>\n",
       "    <tr>\n",
       "      <th>8</th>\n",
       "      <td>buy</td>\n",
       "      <td>18537</td>\n",
       "    </tr>\n",
       "    <tr>\n",
       "      <th>9</th>\n",
       "      <td>tale</td>\n",
       "      <td>16606</td>\n",
       "    </tr>\n",
       "    <tr>\n",
       "      <th>10</th>\n",
       "      <td>tape</td>\n",
       "      <td>16495</td>\n",
       "    </tr>\n",
       "    <tr>\n",
       "      <th>11</th>\n",
       "      <td>market</td>\n",
       "      <td>15741</td>\n",
       "    </tr>\n",
       "    <tr>\n",
       "      <th>12</th>\n",
       "      <td>new</td>\n",
       "      <td>13211</td>\n",
       "    </tr>\n",
       "    <tr>\n",
       "      <th>13</th>\n",
       "      <td>report</td>\n",
       "      <td>13069</td>\n",
       "    </tr>\n",
       "    <tr>\n",
       "      <th>14</th>\n",
       "      <td>call</td>\n",
       "      <td>12804</td>\n",
       "    </tr>\n",
       "    <tr>\n",
       "      <th>15</th>\n",
       "      <td>miss</td>\n",
       "      <td>12632</td>\n",
       "    </tr>\n",
       "    <tr>\n",
       "      <th>16</th>\n",
       "      <td>revenue</td>\n",
       "      <td>12481</td>\n",
       "    </tr>\n",
       "    <tr>\n",
       "      <th>17</th>\n",
       "      <td>top</td>\n",
       "      <td>12130</td>\n",
       "    </tr>\n",
       "    <tr>\n",
       "      <th>18</th>\n",
       "      <td>ceo</td>\n",
       "      <td>11998</td>\n",
       "    </tr>\n",
       "    <tr>\n",
       "      <th>19</th>\n",
       "      <td>share</td>\n",
       "      <td>11536</td>\n",
       "    </tr>\n",
       "  </tbody>\n",
       "</table>\n",
       "</div>"
      ],
      "text/plain": [
       "        word  frequency\n",
       "0    analyst      84487\n",
       "1       blog      80696\n",
       "2      stock      61591\n",
       "3   earnings      50530\n",
       "4       beat      22089\n",
       "5   dividend      21749\n",
       "6     result      20968\n",
       "7       high      19596\n",
       "8        buy      18537\n",
       "9       tale      16606\n",
       "10      tape      16495\n",
       "11    market      15741\n",
       "12       new      13211\n",
       "13    report      13069\n",
       "14      call      12804\n",
       "15      miss      12632\n",
       "16   revenue      12481\n",
       "17       top      12130\n",
       "18       ceo      11998\n",
       "19     share      11536"
      ]
     },
     "execution_count": 41,
     "metadata": {},
     "output_type": "execute_result"
    }
   ],
   "source": [
    "pd.DataFrame(most_occur, columns = [\"word\", \"frequency\"])"
   ]
  },
  {
   "cell_type": "code",
   "execution_count": 42,
   "metadata": {},
   "outputs": [
    {
     "data": {
      "text/html": [
       "<div>\n",
       "<style scoped>\n",
       "    .dataframe tbody tr th:only-of-type {\n",
       "        vertical-align: middle;\n",
       "    }\n",
       "\n",
       "    .dataframe tbody tr th {\n",
       "        vertical-align: top;\n",
       "    }\n",
       "\n",
       "    .dataframe thead th {\n",
       "        text-align: right;\n",
       "    }\n",
       "</style>\n",
       "<table border=\"1\" class=\"dataframe\">\n",
       "  <thead>\n",
       "    <tr style=\"text-align: right;\">\n",
       "      <th></th>\n",
       "      <th>word</th>\n",
       "      <th>frequency</th>\n",
       "    </tr>\n",
       "  </thead>\n",
       "  <tbody>\n",
       "    <tr>\n",
       "      <th>0</th>\n",
       "      <td>analyst</td>\n",
       "      <td>70855</td>\n",
       "    </tr>\n",
       "    <tr>\n",
       "      <th>1</th>\n",
       "      <td>blog</td>\n",
       "      <td>67298</td>\n",
       "    </tr>\n",
       "    <tr>\n",
       "      <th>2</th>\n",
       "      <td>stock</td>\n",
       "      <td>55864</td>\n",
       "    </tr>\n",
       "    <tr>\n",
       "      <th>3</th>\n",
       "      <td>earnings</td>\n",
       "      <td>47597</td>\n",
       "    </tr>\n",
       "    <tr>\n",
       "      <th>4</th>\n",
       "      <td>result</td>\n",
       "      <td>21012</td>\n",
       "    </tr>\n",
       "    <tr>\n",
       "      <th>5</th>\n",
       "      <td>dividend</td>\n",
       "      <td>20271</td>\n",
       "    </tr>\n",
       "    <tr>\n",
       "      <th>6</th>\n",
       "      <td>beat</td>\n",
       "      <td>19394</td>\n",
       "    </tr>\n",
       "    <tr>\n",
       "      <th>7</th>\n",
       "      <td>buy</td>\n",
       "      <td>17335</td>\n",
       "    </tr>\n",
       "    <tr>\n",
       "      <th>8</th>\n",
       "      <td>market</td>\n",
       "      <td>15308</td>\n",
       "    </tr>\n",
       "    <tr>\n",
       "      <th>9</th>\n",
       "      <td>high</td>\n",
       "      <td>15115</td>\n",
       "    </tr>\n",
       "    <tr>\n",
       "      <th>10</th>\n",
       "      <td>tale</td>\n",
       "      <td>14415</td>\n",
       "    </tr>\n",
       "    <tr>\n",
       "      <th>11</th>\n",
       "      <td>tape</td>\n",
       "      <td>14258</td>\n",
       "    </tr>\n",
       "    <tr>\n",
       "      <th>12</th>\n",
       "      <td>call</td>\n",
       "      <td>14179</td>\n",
       "    </tr>\n",
       "    <tr>\n",
       "      <th>13</th>\n",
       "      <td>revenue</td>\n",
       "      <td>12612</td>\n",
       "    </tr>\n",
       "    <tr>\n",
       "      <th>14</th>\n",
       "      <td>ceo</td>\n",
       "      <td>12086</td>\n",
       "    </tr>\n",
       "    <tr>\n",
       "      <th>15</th>\n",
       "      <td>miss</td>\n",
       "      <td>11609</td>\n",
       "    </tr>\n",
       "    <tr>\n",
       "      <th>16</th>\n",
       "      <td>new</td>\n",
       "      <td>11591</td>\n",
       "    </tr>\n",
       "    <tr>\n",
       "      <th>17</th>\n",
       "      <td>report</td>\n",
       "      <td>11251</td>\n",
       "    </tr>\n",
       "    <tr>\n",
       "      <th>18</th>\n",
       "      <td>top</td>\n",
       "      <td>11129</td>\n",
       "    </tr>\n",
       "    <tr>\n",
       "      <th>19</th>\n",
       "      <td>energy</td>\n",
       "      <td>10332</td>\n",
       "    </tr>\n",
       "  </tbody>\n",
       "</table>\n",
       "</div>"
      ],
      "text/plain": [
       "        word  frequency\n",
       "0    analyst      70855\n",
       "1       blog      67298\n",
       "2      stock      55864\n",
       "3   earnings      47597\n",
       "4     result      21012\n",
       "5   dividend      20271\n",
       "6       beat      19394\n",
       "7        buy      17335\n",
       "8     market      15308\n",
       "9       high      15115\n",
       "10      tale      14415\n",
       "11      tape      14258\n",
       "12      call      14179\n",
       "13   revenue      12612\n",
       "14       ceo      12086\n",
       "15      miss      11609\n",
       "16       new      11591\n",
       "17    report      11251\n",
       "18       top      11129\n",
       "19    energy      10332"
      ]
     },
     "execution_count": 42,
     "metadata": {},
     "output_type": "execute_result"
    }
   ],
   "source": [
    "text = \" \".join(DOWN.headline)\n",
    "most_occur = Counter(text.split()).most_common(20)\n",
    "pd.DataFrame(most_occur, columns = [\"word\", \"frequency\"])"
   ]
  },
  {
   "cell_type": "markdown",
   "metadata": {},
   "source": [
    "# Features Enginnering - bag of word"
   ]
  },
  {
   "cell_type": "code",
   "execution_count": 78,
   "metadata": {},
   "outputs": [
    {
     "name": "stdout",
     "output_type": "stream",
     "text": [
      "(1271, 46216)\n"
     ]
    }
   ],
   "source": [
    "# initail approach - bag of words counting Vectorizer\n",
    "basicvectorizer = CountVectorizer(ngram_range=(1,1))\n",
    "basictrain = basicvectorizer.fit_transform(train.headline)\n",
    "print(basictrain.shape)"
   ]
  },
  {
   "cell_type": "code",
   "execution_count": 79,
   "metadata": {},
   "outputs": [],
   "source": [
    "basictest = basicvectorizer.transform(test.headline)\n",
    "basicvalidation = basicvectorizer.transform(validation.headline)"
   ]
  },
  {
   "cell_type": "markdown",
   "metadata": {},
   "source": [
    "# Initial Model - XGBoost for all features"
   ]
  },
  {
   "cell_type": "code",
   "execution_count": 80,
   "metadata": {},
   "outputs": [],
   "source": [
    "mod1 = XGBClassifier(n_jobs = -1, random_state=42, seed=2, n_estimators = 100, max_depth = 6, learning_rate = 0.1,\n",
    "                    subsample = 0.75, colsample_bytree = 0.75, reg_alpha = 0, reg_lambda = 1)\n"
   ]
  },
  {
   "cell_type": "code",
   "execution_count": 81,
   "metadata": {},
   "outputs": [],
   "source": [
    "fit1 = mod1.fit(basictrain, train.Movement)\n",
    "\n",
    "pred1_train = fit1.predict(basictrain)\n",
    "pred1_proba_train = fit1.predict_proba(basictrain)\n",
    "\n",
    "pred1 = fit1.predict(basicvalidation)\n",
    "pred1_proba = fit1.predict_proba(basicvalidation)\n",
    "\n",
    "pred1_test = fit1.predict(basictest)\n",
    "pred1_proba_test = fit1.predict_proba(basictest)"
   ]
  },
  {
   "cell_type": "code",
   "execution_count": 82,
   "metadata": {},
   "outputs": [
    {
     "data": {
      "image/png": "[encoded data removed]",
      "text/plain": [
       "<Figure size 180x180 with 1 Axes>"
      ]
     },
     "metadata": {
      "needs_background": "light"
     },
     "output_type": "display_data"
    },
    {
     "name": "stdout",
     "output_type": "stream",
     "text": [
      "              precision    recall  f1-score   support\n",
      "\n",
      "           0       1.00      1.00      1.00       591\n",
      "           1       1.00      1.00      1.00       680\n",
      "\n",
      "    accuracy                           1.00      1271\n",
      "   macro avg       1.00      1.00      1.00      1271\n",
      "weighted avg       1.00      1.00      1.00      1271\n",
      "\n"
     ]
    },
    {
     "data": {
      "image/png": "[encoded data removed]",
      "text/plain": [
       "<Figure size 432x288 with 1 Axes>"
      ]
     },
     "metadata": {
      "needs_background": "light"
     },
     "output_type": "display_data"
    },
    {
     "data": {
      "text/plain": [
       "1.0"
      ]
     },
     "execution_count": 82,
     "metadata": {},
     "output_type": "execute_result"
    }
   ],
   "source": [
    "performance(train.Movement, pred1_train, pred1_proba_train)"
   ]
  },
  {
   "cell_type": "code",
   "execution_count": 83,
   "metadata": {},
   "outputs": [
    {
     "data": {
      "image/png": "[encoded data removed]",
      "text/plain": [
       "<Figure size 180x180 with 1 Axes>"
      ]
     },
     "metadata": {
      "needs_background": "light"
     },
     "output_type": "display_data"
    },
    {
     "name": "stdout",
     "output_type": "stream",
     "text": [
      "              precision    recall  f1-score   support\n",
      "\n",
      "           0       0.55      0.53      0.54       178\n",
      "           1       0.66      0.68      0.67       241\n",
      "\n",
      "    accuracy                           0.62       419\n",
      "   macro avg       0.61      0.61      0.61       419\n",
      "weighted avg       0.62      0.62      0.62       419\n",
      "\n"
     ]
    },
    {
     "data": {
      "image/png": "[encoded data removed]",
      "text/plain": [
       "<Figure size 432x288 with 1 Axes>"
      ]
     },
     "metadata": {
      "needs_background": "light"
     },
     "output_type": "display_data"
    },
    {
     "data": {
      "text/plain": [
       "0.6602755373210872"
      ]
     },
     "execution_count": 83,
     "metadata": {},
     "output_type": "execute_result"
    }
   ],
   "source": [
    "performance(validation.Movement, pred1, pred1_proba)"
   ]
  },
  {
   "cell_type": "code",
   "execution_count": 85,
   "metadata": {},
   "outputs": [
    {
     "data": {
      "image/png": "[encoded data removed]",
      "text/plain": [
       "<Figure size 180x180 with 1 Axes>"
      ]
     },
     "metadata": {
      "needs_background": "light"
     },
     "output_type": "display_data"
    },
    {
     "name": "stdout",
     "output_type": "stream",
     "text": [
      "              precision    recall  f1-score   support\n",
      "\n",
      "           0       0.54      0.53      0.54       189\n",
      "           1       0.63      0.64      0.63       233\n",
      "\n",
      "    accuracy                           0.59       422\n",
      "   macro avg       0.58      0.58      0.58       422\n",
      "weighted avg       0.59      0.59      0.59       422\n",
      "\n"
     ]
    },
    {
     "data": {
      "image/png": "[encoded data removed]",
      "text/plain": [
       "<Figure size 432x288 with 1 Axes>"
      ]
     },
     "metadata": {
      "needs_background": "light"
     },
     "output_type": "display_data"
    },
    {
     "data": {
      "text/plain": [
       "0.5984285941367486"
      ]
     },
     "execution_count": 85,
     "metadata": {},
     "output_type": "execute_result"
    }
   ],
   "source": [
    "performance(test.Movement, pred1_test, pred1_proba_test)"
   ]
  },
  {
   "cell_type": "code",
   "execution_count": 42,
   "metadata": {},
   "outputs": [
    {
     "data": {
      "text/plain": [
       "44952"
      ]
     },
     "execution_count": 42,
     "metadata": {},
     "output_type": "execute_result"
    }
   ],
   "source": [
    "sum(np.array(fit1.feature_importances_) == 0 )"
   ]
  },
  {
   "cell_type": "code",
   "execution_count": 43,
   "metadata": {},
   "outputs": [
    {
     "data": {
      "text/plain": [
       "0.00505468"
      ]
     },
     "execution_count": 43,
     "metadata": {},
     "output_type": "execute_result"
    }
   ],
   "source": [
    "max(np.array(fit1.feature_importances_))"
   ]
  },
  {
   "cell_type": "markdown",
   "metadata": {},
   "source": [
    "# Back to Features Enginnering\n",
    "### Noted that, validation set performance is used to select the best model"
   ]
  },
  {
   "cell_type": "code",
   "execution_count": 60,
   "metadata": {},
   "outputs": [
    {
     "name": "stdout",
     "output_type": "stream",
     "text": [
      "Finished the model with min_df = 0 and max_df =  0.9\n",
      "Finished the model with min_df = 0 and max_df =  0.92\n",
      "Finished the model with min_df = 0 and max_df =  0.94\n",
      "Finished the model with min_df = 0 and max_df =  0.96\n",
      "Finished the model with min_df = 0 and max_df =  0.98\n",
      "Finished the model with min_df = 0 and max_df =  1\n",
      "Finished the model with min_df = 0.025 and max_df =  0.9\n",
      "Finished the model with min_df = 0.025 and max_df =  0.92\n",
      "Finished the model with min_df = 0.025 and max_df =  0.94\n",
      "Finished the model with min_df = 0.025 and max_df =  0.96\n",
      "Finished the model with min_df = 0.025 and max_df =  0.98\n",
      "Finished the model with min_df = 0.025 and max_df =  1\n",
      "Finished the model with min_df = 0.05 and max_df =  0.9\n",
      "Finished the model with min_df = 0.05 and max_df =  0.92\n",
      "Finished the model with min_df = 0.05 and max_df =  0.94\n",
      "Finished the model with min_df = 0.05 and max_df =  0.96\n",
      "Finished the model with min_df = 0.05 and max_df =  0.98\n",
      "Finished the model with min_df = 0.05 and max_df =  1\n",
      "Finished the model with min_df = 0.075 and max_df =  0.9\n",
      "Finished the model with min_df = 0.075 and max_df =  0.92\n",
      "Finished the model with min_df = 0.075 and max_df =  0.94\n",
      "Finished the model with min_df = 0.075 and max_df =  0.96\n",
      "Finished the model with min_df = 0.075 and max_df =  0.98\n",
      "Finished the model with min_df = 0.075 and max_df =  1\n",
      "Finished the model with min_df = 0.1 and max_df =  0.9\n",
      "Finished the model with min_df = 0.1 and max_df =  0.92\n",
      "Finished the model with min_df = 0.1 and max_df =  0.94\n",
      "Finished the model with min_df = 0.1 and max_df =  0.96\n",
      "Finished the model with min_df = 0.1 and max_df =  0.98\n",
      "Finished the model with min_df = 0.1 and max_df =  1\n",
      "Finished the model with min_df = 0.125 and max_df =  0.9\n",
      "Finished the model with min_df = 0.125 and max_df =  0.92\n",
      "Finished the model with min_df = 0.125 and max_df =  0.94\n",
      "Finished the model with min_df = 0.125 and max_df =  0.96\n",
      "Finished the model with min_df = 0.125 and max_df =  0.98\n",
      "Finished the model with min_df = 0.125 and max_df =  1\n",
      "Finished the model with min_df = 0.15 and max_df =  0.9\n",
      "Finished the model with min_df = 0.15 and max_df =  0.92\n",
      "Finished the model with min_df = 0.15 and max_df =  0.94\n",
      "Finished the model with min_df = 0.15 and max_df =  0.96\n",
      "Finished the model with min_df = 0.15 and max_df =  0.98\n",
      "Finished the model with min_df = 0.15 and max_df =  1\n"
     ]
    }
   ],
   "source": [
    "# Impute Td-idf instead, we also limit the max appearance and min aappearance of a word to be used in the model. By doing so, many useless features will be eliminated. \n",
    "# A gird search is performed to find the best min_df and max_df assuming no change on other hyperparameter of XGBoost yet.\n",
    "\n",
    "min_df = [0, 0.025, 0.05, 0.075, 0.1, 0.125, 0.15]\n",
    "max_df = [0.9, 0.92, 0.94, 0.96, 0.98, 1]\n",
    "\n",
    "auc_score = np.zeros((len(min_df), len(max_df)))\n",
    "\n",
    "for i in range(len(min_df)):\n",
    "    for j in range(len(max_df)):\n",
    "        if max_df[j] == 1:\n",
    "            basicvectorizer = TfidfVectorizer(ngram_range=(1,1), min_df = min_df[i])\n",
    "        else:\n",
    "            basicvectorizer = TfidfVectorizer(ngram_range=(1,1), min_df = min_df[i], max_df = max_df[j])\n",
    "        basictrain = basicvectorizer.fit_transform(train.headline)\n",
    "        basictest = basicvectorizer.transform(test.headline)\n",
    "        basicvalidation = basicvectorizer.transform(validation.headline)\n",
    "        \n",
    "        fit2 = mod1.fit(basictrain, train.Movement)\n",
    "        pred2 = fit2.predict(basicvalidation)\n",
    "        pred2_proba = fit2.predict_proba(basicvalidation)\n",
    "        auc_score[i,j] = score(validation.Movement, pred2_proba)\n",
    "        print(\"Finished the model with min_df =\", min_df[i], \"and max_df = \", max_df[j])"
   ]
  },
  {
   "cell_type": "code",
   "execution_count": 61,
   "metadata": {},
   "outputs": [
    {
     "data": {
      "text/plain": [
       "array([0.64042613, 0.63581053, 0.65891184, 0.6544361 , 0.66019395,\n",
       "       0.65721013, 0.63734906])"
      ]
     },
     "execution_count": 61,
     "metadata": {},
     "output_type": "execute_result"
    }
   ],
   "source": [
    "auc_score.max(axis = 1)"
   ]
  },
  {
   "cell_type": "code",
   "execution_count": 62,
   "metadata": {},
   "outputs": [
    {
     "data": {
      "text/plain": [
       "array([0.59737051, 0.62096135, 0.64755933, 0.66019395, 0.65891184,\n",
       "       0.65721013])"
      ]
     },
     "execution_count": 62,
     "metadata": {},
     "output_type": "execute_result"
    }
   ],
   "source": [
    "auc_score.max(axis = 0)"
   ]
  },
  {
   "cell_type": "code",
   "execution_count": 63,
   "metadata": {},
   "outputs": [
    {
     "data": {
      "text/plain": [
       "0.6601939484358245"
      ]
     },
     "execution_count": 63,
     "metadata": {},
     "output_type": "execute_result"
    }
   ],
   "source": [
    "auc_score[4, 3]"
   ]
  },
  {
   "cell_type": "markdown",
   "metadata": {},
   "source": [
    "Therefore, we set min_df as 0.1 and max_df as 0.96"
   ]
  },
  {
   "cell_type": "code",
   "execution_count": 86,
   "metadata": {},
   "outputs": [
    {
     "name": "stdout",
     "output_type": "stream",
     "text": [
      "(1271, 2113)\n"
     ]
    }
   ],
   "source": [
    "basicvectorizer = TfidfVectorizer(ngram_range=(1,1), min_df = 0.1, max_df = 0.96)\n",
    "basictrain = basicvectorizer.fit_transform(train.headline)\n",
    "print(basictrain.shape)"
   ]
  },
  {
   "cell_type": "code",
   "execution_count": 87,
   "metadata": {},
   "outputs": [],
   "source": [
    "basictest = basicvectorizer.transform(test.headline)\n",
    "basicvalidation = basicvectorizer.transform(validation.headline)"
   ]
  },
  {
   "cell_type": "code",
   "execution_count": 88,
   "metadata": {},
   "outputs": [],
   "source": [
    "fit2 = mod1.fit(basictrain, train.Movement)\n",
    "\n",
    "pred2_train = fit2.predict(basictrain)\n",
    "pred2_proba_train = fit2.predict_proba(basictrain)\n",
    "\n",
    "pred2 = fit2.predict(basicvalidation)\n",
    "pred2_proba = fit2.predict_proba(basicvalidation)\n",
    "\n",
    "pred2_test = fit2.predict(basictest)\n",
    "pred2_proba_test = fit2.predict_proba(basictest)"
   ]
  },
  {
   "cell_type": "code",
   "execution_count": 89,
   "metadata": {},
   "outputs": [
    {
     "data": {
      "image/png": "[encoded data removed]",
      "text/plain": [
       "<Figure size 180x180 with 1 Axes>"
      ]
     },
     "metadata": {
      "needs_background": "light"
     },
     "output_type": "display_data"
    },
    {
     "name": "stdout",
     "output_type": "stream",
     "text": [
      "              precision    recall  f1-score   support\n",
      "\n",
      "           0       1.00      1.00      1.00       591\n",
      "           1       1.00      1.00      1.00       680\n",
      "\n",
      "    accuracy                           1.00      1271\n",
      "   macro avg       1.00      1.00      1.00      1271\n",
      "weighted avg       1.00      1.00      1.00      1271\n",
      "\n"
     ]
    },
    {
     "data": {
      "image/png": "[encoded data removed]",
      "text/plain": [
       "<Figure size 432x288 with 1 Axes>"
      ]
     },
     "metadata": {
      "needs_background": "light"
     },
     "output_type": "display_data"
    },
    {
     "data": {
      "text/plain": [
       "1.0"
      ]
     },
     "execution_count": 89,
     "metadata": {},
     "output_type": "execute_result"
    }
   ],
   "source": [
    "performance(train.Movement, pred2_train, pred2_proba_train)"
   ]
  },
  {
   "cell_type": "code",
   "execution_count": 90,
   "metadata": {},
   "outputs": [
    {
     "data": {
      "image/png": "[encoded data removed]",
      "text/plain": [
       "<Figure size 180x180 with 1 Axes>"
      ]
     },
     "metadata": {
      "needs_background": "light"
     },
     "output_type": "display_data"
    },
    {
     "name": "stdout",
     "output_type": "stream",
     "text": [
      "              precision    recall  f1-score   support\n",
      "\n",
      "           0       0.59      0.46      0.52       178\n",
      "           1       0.66      0.76      0.71       241\n",
      "\n",
      "    accuracy                           0.63       419\n",
      "   macro avg       0.62      0.61      0.61       419\n",
      "weighted avg       0.63      0.63      0.63       419\n",
      "\n"
     ]
    },
    {
     "data": {
      "image/png": "[encoded data removed]",
      "text/plain": [
       "<Figure size 432x288 with 1 Axes>"
      ]
     },
     "metadata": {
      "needs_background": "light"
     },
     "output_type": "display_data"
    },
    {
     "data": {
      "text/plain": [
       "0.6601939484358245"
      ]
     },
     "execution_count": 90,
     "metadata": {},
     "output_type": "execute_result"
    }
   ],
   "source": [
    "performance(validation.Movement, pred2, pred2_proba)"
   ]
  },
  {
   "cell_type": "code",
   "execution_count": 91,
   "metadata": {},
   "outputs": [
    {
     "data": {
      "image/png": "[encoded data removed]",
      "text/plain": [
       "<Figure size 180x180 with 1 Axes>"
      ]
     },
     "metadata": {
      "needs_background": "light"
     },
     "output_type": "display_data"
    },
    {
     "name": "stdout",
     "output_type": "stream",
     "text": [
      "              precision    recall  f1-score   support\n",
      "\n",
      "           0       0.52      0.38      0.44       189\n",
      "           1       0.59      0.72      0.65       233\n",
      "\n",
      "    accuracy                           0.57       422\n",
      "   macro avg       0.55      0.55      0.54       422\n",
      "weighted avg       0.56      0.57      0.55       422\n",
      "\n"
     ]
    },
    {
     "data": {
      "image/png": "[encoded data removed]",
      "text/plain": [
       "<Figure size 432x288 with 1 Axes>"
      ]
     },
     "metadata": {
      "needs_background": "light"
     },
     "output_type": "display_data"
    },
    {
     "data": {
      "text/plain": [
       "0.5878011672003088"
      ]
     },
     "execution_count": 91,
     "metadata": {},
     "output_type": "execute_result"
    }
   ],
   "source": [
    "performance(test.Movement, pred2_test, pred2_proba_test)"
   ]
  },
  {
   "cell_type": "markdown",
   "metadata": {},
   "source": [
    "# Hyperparameter turning\n",
    "As the data is NOT i.i.d, a CV approach is NOT appropecate and thus, the validation set AUC is the only way to perform model selection.\n",
    "\n",
    "Indeed, one should consider the pervious min_df and max_df as hyperparameter as well. However, due to the computational limitation, we do it seperately.\n",
    "\n",
    "Here, we set learning_rate as 0.1 and control n_estimators, the number of weak learner. \n",
    "max_depth is to control the complexity of each weak learner.\n",
    "subsample ratio and colsample_bytree is to control the randomness of each step. \n",
    "Finally, reg_alpha and reg_lambda is the parameters to add L1 and L2 penalty."
   ]
  },
  {
   "cell_type": "code",
   "execution_count": 92,
   "metadata": {},
   "outputs": [],
   "source": [
    "n_estimators = [10, 30, 50, 100, 150]\n",
    "max_depth = [1, 2, 4, 6]\n",
    "learning_rate = 0.1\n",
    "subsample = [0.25, 0.5, 0.75, 1]\n",
    "colsample_bytree = [0.25, 0.5, 0.75, 1]\n",
    "reg_alpha = [0, 1, 2]\n",
    "reg_lambda = [0, 1, 2]\n",
    "\n",
    "auc_score = np.zeros((len(n_estimators), len(max_depth), len(subsample), \n",
    "               len(colsample_bytree), len(reg_alpha), len(reg_lambda)))"
   ]
  },
  {
   "cell_type": "code",
   "execution_count": 93,
   "metadata": {
    "scrolled": true
   },
   "outputs": [
    {
     "name": "stdout",
     "output_type": "stream",
     "text": [
      "Finished the all models with n_estimators = 10\n",
      "Finished the all models with n_estimators = 30\n",
      "Finished the all models with n_estimators = 50\n",
      "Finished the all models with n_estimators = 100\n",
      "Finished the all models with n_estimators = 150\n"
     ]
    }
   ],
   "source": [
    "for i in range(len(n_estimators)):\n",
    "    for j in range(len(max_depth)):\n",
    "        for k in range(len(subsample)):\n",
    "            for l in range(len(colsample_bytree)):\n",
    "                for m in range(len(reg_alpha)):\n",
    "                    for n in range(len(reg_lambda)):\n",
    "                        mod = XGBClassifier(learning_rate = learning_rate, \n",
    "                                            n_estimators = n_estimators[i], \n",
    "                                            max_depth = max_depth[j], \n",
    "                                            subsample = subsample[k],\n",
    "                                            colsample_bytree = colsample_bytree[l],\n",
    "                                            reg_alpha = reg_alpha[m],\n",
    "                                            reg_lambda = reg_lambda[n], \n",
    "                                            random_state = 42, seed = 2, n_jobs = -1)\n",
    "                        fit = mod.fit(basictrain, train.Movement)\n",
    "                        pred = fit.predict(basicvalidation)\n",
    "                        pred_proba = fit.predict_proba(basicvalidation)\n",
    "                        auc_score[i,j,k,l,m,n] = score(validation.Movement, pred_proba)\n",
    "    print(\"Finished the all models with n_estimators =\", n_estimators[i])\n"
   ]
  },
  {
   "cell_type": "code",
   "execution_count": 96,
   "metadata": {},
   "outputs": [
    {
     "data": {
      "text/plain": [
       "array([0.66392373, 0.68208308, 0.6804513 , 0.68035806, 0.68313208])"
      ]
     },
     "execution_count": 96,
     "metadata": {},
     "output_type": "execute_result"
    }
   ],
   "source": [
    "auc_score.max(axis = 5).max(axis = 4).max(axis = 3).max(axis = 2).max(axis = 1)"
   ]
  },
  {
   "cell_type": "markdown",
   "metadata": {},
   "source": [
    "In general, we expect to see a convex curve and thus, the second, n_estimators = 30 is chosen\n"
   ]
  },
  {
   "cell_type": "code",
   "execution_count": 103,
   "metadata": {},
   "outputs": [
    {
     "data": {
      "text/plain": [
       "array([0.67013614, 0.674472  , 0.66788661, 0.68208308])"
      ]
     },
     "execution_count": 103,
     "metadata": {},
     "output_type": "execute_result"
    }
   ],
   "source": [
    "auc_score[1, :, :, :, :, :].max(axis = 4).max(axis = 3).max(axis = 2).max(axis = 1)"
   ]
  },
  {
   "cell_type": "code",
   "execution_count": 104,
   "metadata": {},
   "outputs": [
    {
     "data": {
      "text/plain": [
       "array([0.68208308, 0.67013614, 0.66711735, 0.674472  ])"
      ]
     },
     "execution_count": 104,
     "metadata": {},
     "output_type": "execute_result"
    }
   ],
   "source": [
    "auc_score[1, :, :, :, :, :].max(axis = 4).max(axis = 3).max(axis = 2).max(axis = 0)"
   ]
  },
  {
   "cell_type": "code",
   "execution_count": 105,
   "metadata": {},
   "outputs": [
    {
     "data": {
      "text/plain": [
       "array([0.67013614, 0.68208308, 0.66242016, 0.66711735])"
      ]
     },
     "execution_count": 105,
     "metadata": {},
     "output_type": "execute_result"
    }
   ],
   "source": [
    "auc_score[1, :, :, :, :, :].max(axis = 4).max(axis = 3).max(axis = 1).max(axis = 0)"
   ]
  },
  {
   "cell_type": "code",
   "execution_count": 106,
   "metadata": {},
   "outputs": [
    {
     "data": {
      "text/plain": [
       "array([0.674472  , 0.68208308, 0.67013614])"
      ]
     },
     "execution_count": 106,
     "metadata": {},
     "output_type": "execute_result"
    }
   ],
   "source": [
    "auc_score[1, :, :, :, :, :].max(axis = 4).max(axis = 2).max(axis = 1).max(axis = 0)"
   ]
  },
  {
   "cell_type": "code",
   "execution_count": 107,
   "metadata": {},
   "outputs": [
    {
     "data": {
      "text/plain": [
       "array([0.66690755, 0.674472  , 0.68208308])"
      ]
     },
     "execution_count": 107,
     "metadata": {},
     "output_type": "execute_result"
    }
   ],
   "source": [
    "auc_score[1, :, :, :, :, :].max(axis = 3).max(axis = 2).max(axis = 1).max(axis = 0)"
   ]
  },
  {
   "cell_type": "markdown",
   "metadata": {},
   "source": [
    "We choose hyperparameter:\n",
    "\n",
    "n_estimators = 30\n",
    "\n",
    "max_depth = 6\n",
    "\n",
    "subsample = 0.25\n",
    "\n",
    "colsample_bytree = 0.5\n",
    "\n",
    "reg_alpha = 1\n",
    "\n",
    "reg_lambda = 2\n",
    "\n",
    "As our finalised initial model"
   ]
  },
  {
   "cell_type": "markdown",
   "metadata": {},
   "source": [
    "# Finallised initial model"
   ]
  },
  {
   "cell_type": "code",
   "execution_count": 92,
   "metadata": {},
   "outputs": [
    {
     "data": {
      "image/png": "[encoded data removed]",
      "text/plain": [
       "<Figure size 180x180 with 1 Axes>"
      ]
     },
     "metadata": {
      "needs_background": "light"
     },
     "output_type": "display_data"
    },
    {
     "name": "stdout",
     "output_type": "stream",
     "text": [
      "              precision    recall  f1-score   support\n",
      "\n",
      "           0       0.92      0.84      0.88       591\n",
      "           1       0.87      0.94      0.91       680\n",
      "\n",
      "    accuracy                           0.89      1271\n",
      "   macro avg       0.90      0.89      0.89      1271\n",
      "weighted avg       0.90      0.89      0.89      1271\n",
      "\n"
     ]
    },
    {
     "data": {
      "image/png": "[encoded data removed]",
      "text/plain": [
       "<Figure size 432x288 with 1 Axes>"
      ]
     },
     "metadata": {
      "needs_background": "light"
     },
     "output_type": "display_data"
    },
    {
     "data": {
      "text/plain": [
       "0.9632004578481138"
      ]
     },
     "execution_count": 92,
     "metadata": {},
     "output_type": "execute_result"
    }
   ],
   "source": [
    "basicvectorizer = TfidfVectorizer(ngram_range=(1,1), min_df = 0.1, max_df = 0.96)\n",
    "basictrain = basicvectorizer.fit_transform(train.headline)\n",
    "basictest = basicvectorizer.transform(test.headline)\n",
    "basicvalidation = basicvectorizer.transform(validation.headline)\n",
    "\n",
    "mod1 = XGBClassifier(n_estimators = 30, \n",
    "                     learning_rate =0.1, \n",
    "                     max_depth=6,\n",
    "                     subsample = 0.25,\n",
    "                     colsample_bytree = 0.5,\n",
    "                     reg_alpha = 1,\n",
    "                     reg_lambda = 2,\n",
    "                     random_state=42, seed=2, n_jobs = -1)\n",
    "\n",
    "fit1 = mod1.fit(basictrain, train.Movement)\n",
    "\n",
    "pred1_train = fit1.predict(basictrain)\n",
    "pred1_proba_train = fit1.predict_proba(basictrain)\n",
    "\n",
    "pred1 = fit1.predict(basicvalidation)\n",
    "pred1_proba = fit1.predict_proba(basicvalidation)\n",
    "\n",
    "pred1_test = fit1.predict(basictest)\n",
    "pred1_proba_test = fit1.predict_proba(basictest)\n",
    "\n",
    "performance(train.Movement, pred1_train, pred1_proba_train)"
   ]
  },
  {
   "cell_type": "code",
   "execution_count": 93,
   "metadata": {},
   "outputs": [
    {
     "data": {
      "image/png": "[encoded data removed]",
      "text/plain": [
       "<Figure size 180x180 with 1 Axes>"
      ]
     },
     "metadata": {
      "needs_background": "light"
     },
     "output_type": "display_data"
    },
    {
     "name": "stdout",
     "output_type": "stream",
     "text": [
      "              precision    recall  f1-score   support\n",
      "\n",
      "           0       0.58      0.48      0.53       178\n",
      "           1       0.66      0.74      0.70       241\n",
      "\n",
      "    accuracy                           0.63       419\n",
      "   macro avg       0.62      0.61      0.61       419\n",
      "weighted avg       0.63      0.63      0.63       419\n",
      "\n"
     ]
    },
    {
     "data": {
      "image/png": "[encoded data removed]",
      "text/plain": [
       "<Figure size 432x288 with 1 Axes>"
      ]
     },
     "metadata": {
      "needs_background": "light"
     },
     "output_type": "display_data"
    },
    {
     "data": {
      "text/plain": [
       "0.6820830807963075"
      ]
     },
     "execution_count": 93,
     "metadata": {},
     "output_type": "execute_result"
    }
   ],
   "source": [
    "performance(validation.Movement, pred1, pred1_proba)"
   ]
  },
  {
   "cell_type": "code",
   "execution_count": 94,
   "metadata": {},
   "outputs": [
    {
     "data": {
      "image/png": "[encoded data removed]",
      "text/plain": [
       "<Figure size 180x180 with 1 Axes>"
      ]
     },
     "metadata": {
      "needs_background": "light"
     },
     "output_type": "display_data"
    },
    {
     "name": "stdout",
     "output_type": "stream",
     "text": [
      "              precision    recall  f1-score   support\n",
      "\n",
      "           0       0.49      0.45      0.47       189\n",
      "           1       0.58      0.62      0.60       233\n",
      "\n",
      "    accuracy                           0.54       422\n",
      "   macro avg       0.53      0.53      0.53       422\n",
      "weighted avg       0.54      0.54      0.54       422\n",
      "\n"
     ]
    },
    {
     "data": {
      "image/png": "[encoded data removed]",
      "text/plain": [
       "<Figure size 432x288 with 1 Axes>"
      ]
     },
     "metadata": {
      "needs_background": "light"
     },
     "output_type": "display_data"
    },
    {
     "data": {
      "text/plain": [
       "0.573108976542453"
      ]
     },
     "execution_count": 94,
     "metadata": {},
     "output_type": "execute_result"
    }
   ],
   "source": [
    "performance(test.Movement, pred1_test, pred1_proba_test)"
   ]
  },
  {
   "cell_type": "code",
   "execution_count": 110,
   "metadata": {},
   "outputs": [
    {
     "data": {
      "text/html": [
       "<div>\n",
       "<style scoped>\n",
       "    .dataframe tbody tr th:only-of-type {\n",
       "        vertical-align: middle;\n",
       "    }\n",
       "\n",
       "    .dataframe tbody tr th {\n",
       "        vertical-align: top;\n",
       "    }\n",
       "\n",
       "    .dataframe thead th {\n",
       "        text-align: right;\n",
       "    }\n",
       "</style>\n",
       "<table border=\"1\" class=\"dataframe\">\n",
       "  <thead>\n",
       "    <tr style=\"text-align: right;\">\n",
       "      <th></th>\n",
       "      <th>Words</th>\n",
       "      <th>Feature Importance</th>\n",
       "    </tr>\n",
       "  </thead>\n",
       "  <tbody>\n",
       "    <tr>\n",
       "      <th>1468</th>\n",
       "      <td>pull</td>\n",
       "      <td>0.006272</td>\n",
       "    </tr>\n",
       "    <tr>\n",
       "      <th>1104</th>\n",
       "      <td>low</td>\n",
       "      <td>0.006120</td>\n",
       "    </tr>\n",
       "    <tr>\n",
       "      <th>1910</th>\n",
       "      <td>tom</td>\n",
       "      <td>0.005918</td>\n",
       "    </tr>\n",
       "    <tr>\n",
       "      <th>170</th>\n",
       "      <td>beat</td>\n",
       "      <td>0.005839</td>\n",
       "    </tr>\n",
       "    <tr>\n",
       "      <th>1881</th>\n",
       "      <td>tesla</td>\n",
       "      <td>0.005832</td>\n",
       "    </tr>\n",
       "    <tr>\n",
       "      <th>1125</th>\n",
       "      <td>manage</td>\n",
       "      <td>0.005654</td>\n",
       "    </tr>\n",
       "    <tr>\n",
       "      <th>1484</th>\n",
       "      <td>quiet</td>\n",
       "      <td>0.005589</td>\n",
       "    </tr>\n",
       "    <tr>\n",
       "      <th>1908</th>\n",
       "      <td>today</td>\n",
       "      <td>0.005522</td>\n",
       "    </tr>\n",
       "    <tr>\n",
       "      <th>2082</th>\n",
       "      <td>woe</td>\n",
       "      <td>0.005454</td>\n",
       "    </tr>\n",
       "    <tr>\n",
       "      <th>1044</th>\n",
       "      <td>launch</td>\n",
       "      <td>0.005381</td>\n",
       "    </tr>\n",
       "    <tr>\n",
       "      <th>364</th>\n",
       "      <td>coal</td>\n",
       "      <td>0.005313</td>\n",
       "    </tr>\n",
       "    <tr>\n",
       "      <th>1864</th>\n",
       "      <td>tape</td>\n",
       "      <td>0.005277</td>\n",
       "    </tr>\n",
       "    <tr>\n",
       "      <th>106</th>\n",
       "      <td>arm</td>\n",
       "      <td>0.005203</td>\n",
       "    </tr>\n",
       "    <tr>\n",
       "      <th>1392</th>\n",
       "      <td>plant</td>\n",
       "      <td>0.005009</td>\n",
       "    </tr>\n",
       "    <tr>\n",
       "      <th>276</th>\n",
       "      <td>cap</td>\n",
       "      <td>0.004888</td>\n",
       "    </tr>\n",
       "    <tr>\n",
       "      <th>362</th>\n",
       "      <td>co</td>\n",
       "      <td>0.004886</td>\n",
       "    </tr>\n",
       "    <tr>\n",
       "      <th>883</th>\n",
       "      <td>hotel</td>\n",
       "      <td>0.004877</td>\n",
       "    </tr>\n",
       "    <tr>\n",
       "      <th>251</th>\n",
       "      <td>build</td>\n",
       "      <td>0.004797</td>\n",
       "    </tr>\n",
       "    <tr>\n",
       "      <th>1506</th>\n",
       "      <td>reach</td>\n",
       "      <td>0.004780</td>\n",
       "    </tr>\n",
       "    <tr>\n",
       "      <th>576</th>\n",
       "      <td>ebay</td>\n",
       "      <td>0.004735</td>\n",
       "    </tr>\n",
       "  </tbody>\n",
       "</table>\n",
       "</div>"
      ],
      "text/plain": [
       "       Words  Feature Importance\n",
       "1468    pull            0.006272\n",
       "1104     low            0.006120\n",
       "1910     tom            0.005918\n",
       "170     beat            0.005839\n",
       "1881   tesla            0.005832\n",
       "1125  manage            0.005654\n",
       "1484   quiet            0.005589\n",
       "1908   today            0.005522\n",
       "2082     woe            0.005454\n",
       "1044  launch            0.005381\n",
       "364     coal            0.005313\n",
       "1864    tape            0.005277\n",
       "106      arm            0.005203\n",
       "1392   plant            0.005009\n",
       "276      cap            0.004888\n",
       "362       co            0.004886\n",
       "883    hotel            0.004877\n",
       "251    build            0.004797\n",
       "1506   reach            0.004780\n",
       "576     ebay            0.004735"
      ]
     },
     "execution_count": 110,
     "metadata": {},
     "output_type": "execute_result"
    }
   ],
   "source": [
    "mod1words = basicvectorizer.get_feature_names()\n",
    "fi = fit1.feature_importances_\n",
    "fidf = pd.DataFrame({'Words' : mod1words, \n",
    "                        'Feature Importance' : fi})\n",
    "\n",
    "fidf = fidf.sort_values(['Feature Importance', 'Words'], ascending=[0, 1])\n",
    "fidf.head(20)"
   ]
  },
  {
   "cell_type": "markdown",
   "metadata": {},
   "source": [
    "# 2-grams models for feature selection"
   ]
  },
  {
   "cell_type": "code",
   "execution_count": 111,
   "metadata": {},
   "outputs": [
    {
     "name": "stdout",
     "output_type": "stream",
     "text": [
      "Finished the model with min_df = 0 and max_df =  0.75\n",
      "Finished the model with min_df = 0 and max_df =  0.775\n",
      "Finished the model with min_df = 0 and max_df =  0.8\n",
      "Finished the model with min_df = 0 and max_df =  0.825\n",
      "Finished the model with min_df = 0 and max_df =  0.85\n",
      "Finished the model with min_df = 0 and max_df =  0.875\n",
      "Finished the model with min_df = 0 and max_df =  0.9\n",
      "Finished the model with min_df = 0 and max_df =  0.925\n",
      "Finished the model with min_df = 0 and max_df =  0.95\n",
      "Finished the model with min_df = 0 and max_df =  0.975\n",
      "Finished the model with min_df = 0 and max_df =  1\n",
      "Finished the model with min_df = 0.005 and max_df =  0.75\n",
      "Finished the model with min_df = 0.005 and max_df =  0.775\n",
      "Finished the model with min_df = 0.005 and max_df =  0.8\n",
      "Finished the model with min_df = 0.005 and max_df =  0.825\n",
      "Finished the model with min_df = 0.005 and max_df =  0.85\n",
      "Finished the model with min_df = 0.005 and max_df =  0.875\n",
      "Finished the model with min_df = 0.005 and max_df =  0.9\n",
      "Finished the model with min_df = 0.005 and max_df =  0.925\n",
      "Finished the model with min_df = 0.005 and max_df =  0.95\n",
      "Finished the model with min_df = 0.005 and max_df =  0.975\n",
      "Finished the model with min_df = 0.005 and max_df =  1\n",
      "Finished the model with min_df = 0.01 and max_df =  0.75\n",
      "Finished the model with min_df = 0.01 and max_df =  0.775\n",
      "Finished the model with min_df = 0.01 and max_df =  0.8\n",
      "Finished the model with min_df = 0.01 and max_df =  0.825\n",
      "Finished the model with min_df = 0.01 and max_df =  0.85\n",
      "Finished the model with min_df = 0.01 and max_df =  0.875\n",
      "Finished the model with min_df = 0.01 and max_df =  0.9\n",
      "Finished the model with min_df = 0.01 and max_df =  0.925\n",
      "Finished the model with min_df = 0.01 and max_df =  0.95\n",
      "Finished the model with min_df = 0.01 and max_df =  0.975\n",
      "Finished the model with min_df = 0.01 and max_df =  1\n",
      "Finished the model with min_df = 0.015 and max_df =  0.75\n",
      "Finished the model with min_df = 0.015 and max_df =  0.775\n",
      "Finished the model with min_df = 0.015 and max_df =  0.8\n",
      "Finished the model with min_df = 0.015 and max_df =  0.825\n",
      "Finished the model with min_df = 0.015 and max_df =  0.85\n",
      "Finished the model with min_df = 0.015 and max_df =  0.875\n",
      "Finished the model with min_df = 0.015 and max_df =  0.9\n",
      "Finished the model with min_df = 0.015 and max_df =  0.925\n",
      "Finished the model with min_df = 0.015 and max_df =  0.95\n",
      "Finished the model with min_df = 0.015 and max_df =  0.975\n",
      "Finished the model with min_df = 0.015 and max_df =  1\n",
      "Finished the model with min_df = 0.02 and max_df =  0.75\n",
      "Finished the model with min_df = 0.02 and max_df =  0.775\n",
      "Finished the model with min_df = 0.02 and max_df =  0.8\n",
      "Finished the model with min_df = 0.02 and max_df =  0.825\n",
      "Finished the model with min_df = 0.02 and max_df =  0.85\n",
      "Finished the model with min_df = 0.02 and max_df =  0.875\n",
      "Finished the model with min_df = 0.02 and max_df =  0.9\n",
      "Finished the model with min_df = 0.02 and max_df =  0.925\n",
      "Finished the model with min_df = 0.02 and max_df =  0.95\n",
      "Finished the model with min_df = 0.02 and max_df =  0.975\n",
      "Finished the model with min_df = 0.02 and max_df =  1\n",
      "Finished the model with min_df = 0.025 and max_df =  0.75\n",
      "Finished the model with min_df = 0.025 and max_df =  0.775\n",
      "Finished the model with min_df = 0.025 and max_df =  0.8\n",
      "Finished the model with min_df = 0.025 and max_df =  0.825\n",
      "Finished the model with min_df = 0.025 and max_df =  0.85\n",
      "Finished the model with min_df = 0.025 and max_df =  0.875\n",
      "Finished the model with min_df = 0.025 and max_df =  0.9\n",
      "Finished the model with min_df = 0.025 and max_df =  0.925\n",
      "Finished the model with min_df = 0.025 and max_df =  0.95\n",
      "Finished the model with min_df = 0.025 and max_df =  0.975\n",
      "Finished the model with min_df = 0.025 and max_df =  1\n",
      "Finished the model with min_df = 0.03 and max_df =  0.75\n",
      "Finished the model with min_df = 0.03 and max_df =  0.775\n",
      "Finished the model with min_df = 0.03 and max_df =  0.8\n",
      "Finished the model with min_df = 0.03 and max_df =  0.825\n",
      "Finished the model with min_df = 0.03 and max_df =  0.85\n",
      "Finished the model with min_df = 0.03 and max_df =  0.875\n",
      "Finished the model with min_df = 0.03 and max_df =  0.9\n",
      "Finished the model with min_df = 0.03 and max_df =  0.925\n",
      "Finished the model with min_df = 0.03 and max_df =  0.95\n",
      "Finished the model with min_df = 0.03 and max_df =  0.975\n",
      "Finished the model with min_df = 0.03 and max_df =  1\n",
      "Finished the model with min_df = 0.035 and max_df =  0.75\n",
      "Finished the model with min_df = 0.035 and max_df =  0.775\n",
      "Finished the model with min_df = 0.035 and max_df =  0.8\n",
      "Finished the model with min_df = 0.035 and max_df =  0.825\n",
      "Finished the model with min_df = 0.035 and max_df =  0.85\n",
      "Finished the model with min_df = 0.035 and max_df =  0.875\n",
      "Finished the model with min_df = 0.035 and max_df =  0.9\n",
      "Finished the model with min_df = 0.035 and max_df =  0.925\n",
      "Finished the model with min_df = 0.035 and max_df =  0.95\n",
      "Finished the model with min_df = 0.035 and max_df =  0.975\n",
      "Finished the model with min_df = 0.035 and max_df =  1\n",
      "Finished the model with min_df = 0.04 and max_df =  0.75\n",
      "Finished the model with min_df = 0.04 and max_df =  0.775\n",
      "Finished the model with min_df = 0.04 and max_df =  0.8\n",
      "Finished the model with min_df = 0.04 and max_df =  0.825\n",
      "Finished the model with min_df = 0.04 and max_df =  0.85\n",
      "Finished the model with min_df = 0.04 and max_df =  0.875\n",
      "Finished the model with min_df = 0.04 and max_df =  0.9\n",
      "Finished the model with min_df = 0.04 and max_df =  0.925\n",
      "Finished the model with min_df = 0.04 and max_df =  0.95\n",
      "Finished the model with min_df = 0.04 and max_df =  0.975\n",
      "Finished the model with min_df = 0.04 and max_df =  1\n"
     ]
    }
   ],
   "source": [
    "# Impute Td-idf instead, we also limit the max appearance and min aappearance of a word to be used in the model. By doing so, many useless features will be eliminated. \n",
    "# A gird search is performed to find the best min_df and max_df assuming no change on other hyperparameter of XGBoost yet.\n",
    "# inheritect the model from our initial model\n",
    "\n",
    "mod2 = XGBClassifier(n_estimators = 30, \n",
    "                     learning_rate =0.1, \n",
    "                     max_depth=6,\n",
    "                     subsample = 0.25,\n",
    "                     colsample_bytree = 0.5,\n",
    "                     reg_alpha = 1,\n",
    "                     reg_lambda = 2,\n",
    "                     random_state=42, seed=2, n_jobs = -1)\n",
    "\n",
    "min_df = [0, 0.005, 0.01, 0.015, 0.02, 0.025, 0.03, 0.035, 0.04]\n",
    "max_df = [0.75,0.775, 0.8, 0.825, 0.85, 0.875, 0.9, 0.925, 0.95, 0.975, 1]\n",
    "\n",
    "auc_score = np.zeros((len(min_df), len(max_df)))\n",
    "\n",
    "for i in range(len(min_df)):\n",
    "    for j in range(len(max_df)):\n",
    "        if max_df[j] == 1:\n",
    "            basicvectorizer = TfidfVectorizer(ngram_range=(2,2), min_df = min_df[i])\n",
    "        else:\n",
    "            basicvectorizer = TfidfVectorizer(ngram_range=(2,2), min_df = min_df[i], max_df = max_df[j])\n",
    "        basictrain = basicvectorizer.fit_transform(train.headline)\n",
    "        basictest = basicvectorizer.transform(test.headline)\n",
    "        basicvalidation = basicvectorizer.transform(validation.headline)\n",
    "        \n",
    "        fit2 = mod2.fit(basictrain, train.Movement)\n",
    "        pred2 = fit2.predict(basicvalidation)\n",
    "        pred2_proba = fit2.predict_proba(basicvalidation)\n",
    "        auc_score[i,j] = score(validation.Movement, pred2_proba)\n",
    "        print(\"Finished the model with min_df =\", min_df[i], \"and max_df = \", max_df[j])"
   ]
  },
  {
   "cell_type": "code",
   "execution_count": 114,
   "metadata": {},
   "outputs": [
    {
     "data": {
      "text/plain": [
       "array([0.61375822, 0.63145135, 0.63145135, 0.63145135, 0.63145135,\n",
       "       0.63145135, 0.63145135, 0.63145135, 0.63145135, 0.63145135,\n",
       "       0.63145135])"
      ]
     },
     "execution_count": 114,
     "metadata": {},
     "output_type": "execute_result"
    }
   ],
   "source": [
    "auc_score.max(axis = 0)"
   ]
  },
  {
   "cell_type": "code",
   "execution_count": 115,
   "metadata": {},
   "outputs": [
    {
     "data": {
      "text/plain": [
       "array([0.61737144, 0.63145135, 0.61375822, 0.56370926, 0.60995851,\n",
       "       0.5830808 , 0.57704322, 0.60079724, 0.60670661])"
      ]
     },
     "execution_count": 115,
     "metadata": {},
     "output_type": "execute_result"
    }
   ],
   "source": [
    "auc_score.max(axis = 1)"
   ]
  },
  {
   "cell_type": "code",
   "execution_count": 95,
   "metadata": {},
   "outputs": [],
   "source": [
    "basicvectorizer = TfidfVectorizer(ngram_range=(2,2), min_df = 0.005, max_df = 0.975)\n",
    "basictrain = basicvectorizer.fit_transform(train.headline)\n",
    "basictest = basicvectorizer.transform(test.headline)\n",
    "basicvalidation = basicvectorizer.transform(validation.headline)"
   ]
  },
  {
   "cell_type": "markdown",
   "metadata": {},
   "source": [
    "# Hyperparameter Truning"
   ]
  },
  {
   "cell_type": "code",
   "execution_count": 118,
   "metadata": {},
   "outputs": [],
   "source": [
    "n_estimators = [10, 30, 50, 100, 150]\n",
    "max_depth = [1, 2, 4, 6]\n",
    "learning_rate = 0.1\n",
    "subsample = [0.25, 0.5, 0.75, 1]\n",
    "colsample_bytree = [0.25, 0.5, 0.75, 1]\n",
    "reg_alpha = [0, 1, 2]\n",
    "reg_lambda = [0, 1, 2]\n",
    "\n",
    "auc_score = np.zeros((len(n_estimators), len(max_depth), len(subsample), \n",
    "               len(colsample_bytree), len(reg_alpha), len(reg_lambda)))"
   ]
  },
  {
   "cell_type": "code",
   "execution_count": 119,
   "metadata": {},
   "outputs": [
    {
     "name": "stdout",
     "output_type": "stream",
     "text": [
      "Finished the all models with n_estimators = 10\n",
      "Finished the all models with n_estimators = 30\n",
      "Finished the all models with n_estimators = 50\n",
      "Finished the all models with n_estimators = 100\n",
      "Finished the all models with n_estimators = 150\n"
     ]
    }
   ],
   "source": [
    "for i in range(len(n_estimators)):\n",
    "    for j in range(len(max_depth)):\n",
    "        for k in range(len(subsample)):\n",
    "            for l in range(len(colsample_bytree)):\n",
    "                for m in range(len(reg_alpha)):\n",
    "                    for n in range(len(reg_lambda)):\n",
    "                        mod = XGBClassifier(learning_rate = learning_rate, \n",
    "                                            n_estimators = n_estimators[i], \n",
    "                                            max_depth = max_depth[j], \n",
    "                                            subsample = subsample[k],\n",
    "                                            colsample_bytree = colsample_bytree[l],\n",
    "                                            reg_alpha = reg_alpha[m],\n",
    "                                            reg_lambda = reg_lambda[n], \n",
    "                                            random_state = 42, seed = 2, n_jobs = -1)\n",
    "                        fit = mod.fit(basictrain, train.Movement)\n",
    "                        pred = fit.predict(basicvalidation)\n",
    "                        pred_proba = fit.predict_proba(basicvalidation)\n",
    "                        auc_score[i,j,k,l,m,n] = score(validation.Movement, pred_proba)\n",
    "    print(\"Finished the all models with n_estimators =\", n_estimators[i])\n",
    "\n"
   ]
  },
  {
   "cell_type": "code",
   "execution_count": 123,
   "metadata": {},
   "outputs": [
    {
     "data": {
      "text/plain": [
       "array([0.6676535 , 0.73010397, 0.74329806, 0.75803068, 0.75315866])"
      ]
     },
     "execution_count": 123,
     "metadata": {},
     "output_type": "execute_result"
    }
   ],
   "source": [
    "auc_score.max(axis = 5).max(axis = 4).max(axis = 3).max(axis = 2).max(axis = 1)"
   ]
  },
  {
   "cell_type": "markdown",
   "metadata": {},
   "source": [
    "As we can see, the model start overfit when n_estimators more than 100. Thus, we use 100. "
   ]
  },
  {
   "cell_type": "code",
   "execution_count": 124,
   "metadata": {},
   "outputs": [
    {
     "data": {
      "text/plain": [
       "array([0.71608233, 0.74460348, 0.75803068, 0.75733134])"
      ]
     },
     "execution_count": 124,
     "metadata": {},
     "output_type": "execute_result"
    }
   ],
   "source": [
    "auc_score[3, :,:,:,:,:].max(axis = 4).max(axis = 3).max(axis = 2).max(axis = 1)"
   ]
  },
  {
   "cell_type": "code",
   "execution_count": 125,
   "metadata": {},
   "outputs": [
    {
     "data": {
      "text/plain": [
       "array([0.68075435, 0.75733134, 0.75803068, 0.73418341])"
      ]
     },
     "execution_count": 125,
     "metadata": {},
     "output_type": "execute_result"
    }
   ],
   "source": [
    "auc_score[3, :,:,:,:,:].max(axis = 4).max(axis = 3).max(axis = 2).max(axis = 0)"
   ]
  },
  {
   "cell_type": "code",
   "execution_count": 130,
   "metadata": {},
   "outputs": [
    {
     "data": {
      "text/plain": [
       "array([0.72758637, 0.75803068, 0.74714439, 0.73376381])"
      ]
     },
     "execution_count": 130,
     "metadata": {},
     "output_type": "execute_result"
    }
   ],
   "source": [
    "auc_score[3, :,:,:,:,:].max(axis = 4).max(axis = 3).max(axis = 1).max(axis = 0)"
   ]
  },
  {
   "cell_type": "code",
   "execution_count": 126,
   "metadata": {},
   "outputs": [
    {
     "data": {
      "text/plain": [
       "array([0.75733134, 0.75803068, 0.73947503])"
      ]
     },
     "execution_count": 126,
     "metadata": {},
     "output_type": "execute_result"
    }
   ],
   "source": [
    "auc_score[3, :,:,:,:,:].max(axis = 4).max(axis = 2).max(axis = 1).max(axis = 0)"
   ]
  },
  {
   "cell_type": "code",
   "execution_count": 127,
   "metadata": {},
   "outputs": [
    {
     "data": {
      "text/plain": [
       "array([0.75733134, 0.75803068, 0.74005781])"
      ]
     },
     "execution_count": 127,
     "metadata": {},
     "output_type": "execute_result"
    }
   ],
   "source": [
    "auc_score[3, :,:,:,:,:].max(axis = 3).max(axis = 2).max(axis = 1).max(axis = 0)"
   ]
  },
  {
   "cell_type": "code",
   "execution_count": 131,
   "metadata": {},
   "outputs": [
    {
     "data": {
      "text/plain": [
       "0.758030677420859"
      ]
     },
     "execution_count": 131,
     "metadata": {},
     "output_type": "execute_result"
    }
   ],
   "source": [
    "auc_score[3, 2, 2, 1, 1, 1]"
   ]
  },
  {
   "cell_type": "markdown",
   "metadata": {},
   "source": [
    "We choose hyperparameter:\n",
    "\n",
    "n_estimators = 100\n",
    "\n",
    "max_depth = 4\n",
    "\n",
    "subsample = 0.75\n",
    "\n",
    "colsample_bytree = 0.5\n",
    "\n",
    "reg_alpha = 1\n",
    "\n",
    "reg_lambda = 1\n",
    "\n",
    "As our finalised 2-grams model"
   ]
  },
  {
   "cell_type": "markdown",
   "metadata": {},
   "source": [
    "# Finallised 2-grams model"
   ]
  },
  {
   "cell_type": "code",
   "execution_count": 96,
   "metadata": {},
   "outputs": [
    {
     "data": {
      "image/png": "[encoded data removed]",
      "text/plain": [
       "<Figure size 180x180 with 1 Axes>"
      ]
     },
     "metadata": {
      "needs_background": "light"
     },
     "output_type": "display_data"
    },
    {
     "name": "stdout",
     "output_type": "stream",
     "text": [
      "              precision    recall  f1-score   support\n",
      "\n",
      "           0       0.98      0.98      0.98       591\n",
      "           1       0.98      0.99      0.99       680\n",
      "\n",
      "    accuracy                           0.98      1271\n",
      "   macro avg       0.98      0.98      0.98      1271\n",
      "weighted avg       0.98      0.98      0.98      1271\n",
      "\n"
     ]
    },
    {
     "data": {
      "image/png": "[encoded data removed]",
      "text/plain": [
       "<Figure size 432x288 with 1 Axes>"
      ]
     },
     "metadata": {
      "needs_background": "light"
     },
     "output_type": "display_data"
    },
    {
     "data": {
      "text/plain": [
       "0.9989972130984374"
      ]
     },
     "execution_count": 96,
     "metadata": {},
     "output_type": "execute_result"
    }
   ],
   "source": [
    "basicvectorizer = TfidfVectorizer(ngram_range=(2,2), min_df = 0.005, max_df = 0.975)\n",
    "basictrain = basicvectorizer.fit_transform(train.headline)\n",
    "basictest = basicvectorizer.transform(test.headline)\n",
    "basicvalidation = basicvectorizer.transform(validation.headline)\n",
    "\n",
    "mod2 = XGBClassifier(n_estimators = 100, \n",
    "                     learning_rate =0.1, \n",
    "                     max_depth=4,\n",
    "                     subsample = 0.75,\n",
    "                     colsample_bytree = 0.5,\n",
    "                     reg_alpha = 1,\n",
    "                     reg_lambda = 1,\n",
    "                     random_state=42, seed=2, n_jobs = -1)\n",
    "\n",
    "fit2 = mod2.fit(basictrain, train.Movement)\n",
    "\n",
    "pred2_train = fit2.predict(basictrain)\n",
    "pred2_proba_train = fit2.predict_proba(basictrain)\n",
    "\n",
    "pred2 = fit2.predict(basicvalidation)\n",
    "pred2_proba = fit2.predict_proba(basicvalidation)\n",
    "\n",
    "pred2_test = fit2.predict(basictest)\n",
    "pred2_proba_test = fit2.predict_proba(basictest)\n",
    "\n",
    "performance(train.Movement, pred2_train, pred2_proba_train)"
   ]
  },
  {
   "cell_type": "code",
   "execution_count": 97,
   "metadata": {},
   "outputs": [
    {
     "data": {
      "image/png": "[encoded data removed]",
      "text/plain": [
       "<Figure size 180x180 with 1 Axes>"
      ]
     },
     "metadata": {
      "needs_background": "light"
     },
     "output_type": "display_data"
    },
    {
     "name": "stdout",
     "output_type": "stream",
     "text": [
      "              precision    recall  f1-score   support\n",
      "\n",
      "           0       0.65      0.62      0.63       178\n",
      "           1       0.73      0.75      0.74       241\n",
      "\n",
      "    accuracy                           0.69       419\n",
      "   macro avg       0.69      0.68      0.69       419\n",
      "weighted avg       0.69      0.69      0.69       419\n",
      "\n"
     ]
    },
    {
     "data": {
      "image/png": "[encoded data removed]",
      "text/plain": [
       "<Figure size 432x288 with 1 Axes>"
      ]
     },
     "metadata": {
      "needs_background": "light"
     },
     "output_type": "display_data"
    },
    {
     "data": {
      "text/plain": [
       "0.758030677420859"
      ]
     },
     "execution_count": 97,
     "metadata": {},
     "output_type": "execute_result"
    }
   ],
   "source": [
    "performance(validation.Movement, pred2, pred2_proba)"
   ]
  },
  {
   "cell_type": "code",
   "execution_count": 98,
   "metadata": {},
   "outputs": [
    {
     "data": {
      "image/png": "[encoded data removed]",
      "text/plain": [
       "<Figure size 180x180 with 1 Axes>"
      ]
     },
     "metadata": {
      "needs_background": "light"
     },
     "output_type": "display_data"
    },
    {
     "name": "stdout",
     "output_type": "stream",
     "text": [
      "              precision    recall  f1-score   support\n",
      "\n",
      "           0       0.64      0.48      0.55       189\n",
      "           1       0.65      0.78      0.71       233\n",
      "\n",
      "    accuracy                           0.64       422\n",
      "   macro avg       0.64      0.63      0.63       422\n",
      "weighted avg       0.64      0.64      0.64       422\n",
      "\n"
     ]
    },
    {
     "data": {
      "image/png": "[encoded data removed]",
      "text/plain": [
       "<Figure size 432x288 with 1 Axes>"
      ]
     },
     "metadata": {
      "needs_background": "light"
     },
     "output_type": "display_data"
    },
    {
     "data": {
      "text/plain": [
       "0.682040102640961"
      ]
     },
     "execution_count": 98,
     "metadata": {},
     "output_type": "execute_result"
    }
   ],
   "source": [
    "performance(test.Movement, pred2_test, pred2_proba_test)"
   ]
  },
  {
   "cell_type": "code",
   "execution_count": 133,
   "metadata": {},
   "outputs": [
    {
     "data": {
      "text/html": [
       "<div>\n",
       "<style scoped>\n",
       "    .dataframe tbody tr th:only-of-type {\n",
       "        vertical-align: middle;\n",
       "    }\n",
       "\n",
       "    .dataframe tbody tr th {\n",
       "        vertical-align: top;\n",
       "    }\n",
       "\n",
       "    .dataframe thead th {\n",
       "        text-align: right;\n",
       "    }\n",
       "</style>\n",
       "<table border=\"1\" class=\"dataframe\">\n",
       "  <thead>\n",
       "    <tr style=\"text-align: right;\">\n",
       "      <th></th>\n",
       "      <th>Words</th>\n",
       "      <th>Feature Importance</th>\n",
       "    </tr>\n",
       "  </thead>\n",
       "  <tbody>\n",
       "    <tr>\n",
       "      <th>36355</th>\n",
       "      <td>session low</td>\n",
       "      <td>0.007678</td>\n",
       "    </tr>\n",
       "    <tr>\n",
       "      <th>38599</th>\n",
       "      <td>stock hold</td>\n",
       "      <td>0.006282</td>\n",
       "    </tr>\n",
       "    <tr>\n",
       "      <th>17195</th>\n",
       "      <td>future rise</td>\n",
       "      <td>0.005424</td>\n",
       "    </tr>\n",
       "    <tr>\n",
       "      <th>15567</th>\n",
       "      <td>extend gain</td>\n",
       "      <td>0.005406</td>\n",
       "    </tr>\n",
       "    <tr>\n",
       "      <th>38869</th>\n",
       "      <td>stock sell</td>\n",
       "      <td>0.005382</td>\n",
       "    </tr>\n",
       "    <tr>\n",
       "      <th>28518</th>\n",
       "      <td>oil price</td>\n",
       "      <td>0.005105</td>\n",
       "    </tr>\n",
       "    <tr>\n",
       "      <th>36354</th>\n",
       "      <td>session high</td>\n",
       "      <td>0.005095</td>\n",
       "    </tr>\n",
       "    <tr>\n",
       "      <th>24529</th>\n",
       "      <td>loss stock</td>\n",
       "      <td>0.004979</td>\n",
       "    </tr>\n",
       "    <tr>\n",
       "      <th>38799</th>\n",
       "      <td>stock rally</td>\n",
       "      <td>0.004951</td>\n",
       "    </tr>\n",
       "    <tr>\n",
       "      <th>9912</th>\n",
       "      <td>community downgrade</td>\n",
       "      <td>0.004802</td>\n",
       "    </tr>\n",
       "    <tr>\n",
       "      <th>262</th>\n",
       "      <td>add gain</td>\n",
       "      <td>0.004764</td>\n",
       "    </tr>\n",
       "    <tr>\n",
       "      <th>32343</th>\n",
       "      <td>rally stock</td>\n",
       "      <td>0.004763</td>\n",
       "    </tr>\n",
       "    <tr>\n",
       "      <th>20072</th>\n",
       "      <td>hit hard</td>\n",
       "      <td>0.004558</td>\n",
       "    </tr>\n",
       "    <tr>\n",
       "      <th>21268</th>\n",
       "      <td>index low</td>\n",
       "      <td>0.004442</td>\n",
       "    </tr>\n",
       "    <tr>\n",
       "      <th>22949</th>\n",
       "      <td>jump tale</td>\n",
       "      <td>0.004337</td>\n",
       "    </tr>\n",
       "    <tr>\n",
       "      <th>15794</th>\n",
       "      <td>fall sharply</td>\n",
       "      <td>0.004303</td>\n",
       "    </tr>\n",
       "    <tr>\n",
       "      <th>38896</th>\n",
       "      <td>stock slump</td>\n",
       "      <td>0.004287</td>\n",
       "    </tr>\n",
       "    <tr>\n",
       "      <th>35062</th>\n",
       "      <td>royal bank</td>\n",
       "      <td>0.004283</td>\n",
       "    </tr>\n",
       "    <tr>\n",
       "      <th>28551</th>\n",
       "      <td>oil stock</td>\n",
       "      <td>0.004276</td>\n",
       "    </tr>\n",
       "    <tr>\n",
       "      <th>15569</th>\n",
       "      <td>extend loss</td>\n",
       "      <td>0.004234</td>\n",
       "    </tr>\n",
       "  </tbody>\n",
       "</table>\n",
       "</div>"
      ],
      "text/plain": [
       "                     Words  Feature Importance\n",
       "36355          session low            0.007678\n",
       "38599           stock hold            0.006282\n",
       "17195          future rise            0.005424\n",
       "15567          extend gain            0.005406\n",
       "38869           stock sell            0.005382\n",
       "28518            oil price            0.005105\n",
       "36354         session high            0.005095\n",
       "24529           loss stock            0.004979\n",
       "38799          stock rally            0.004951\n",
       "9912   community downgrade            0.004802\n",
       "262               add gain            0.004764\n",
       "32343          rally stock            0.004763\n",
       "20072             hit hard            0.004558\n",
       "21268            index low            0.004442\n",
       "22949            jump tale            0.004337\n",
       "15794         fall sharply            0.004303\n",
       "38896          stock slump            0.004287\n",
       "35062           royal bank            0.004283\n",
       "28551            oil stock            0.004276\n",
       "15569          extend loss            0.004234"
      ]
     },
     "execution_count": 133,
     "metadata": {},
     "output_type": "execute_result"
    }
   ],
   "source": [
    "mod2words = basicvectorizer.get_feature_names()\n",
    "fi = fit2.feature_importances_\n",
    "fidf = pd.DataFrame({'Words' : mod2words, \n",
    "                        'Feature Importance' : fi})\n",
    "\n",
    "fidf = fidf.sort_values(['Feature Importance', 'Words'], ascending=[0, 1])\n",
    "fidf.head(20)"
   ]
  },
  {
   "cell_type": "markdown",
   "metadata": {},
   "source": [
    "# 3 grams model"
   ]
  },
  {
   "cell_type": "code",
   "execution_count": 36,
   "metadata": {},
   "outputs": [
    {
     "name": "stdout",
     "output_type": "stream",
     "text": [
      "Finished the model with min_df = 0 and max_df =  0.3\n",
      "Finished the model with min_df = 0 and max_df =  0.4\n",
      "Finished the model with min_df = 0 and max_df =  0.5\n",
      "Finished the model with min_df = 0 and max_df =  0.6\n",
      "Finished the model with min_df = 0 and max_df =  0.7\n",
      "Finished the model with min_df = 0 and max_df =  0.8\n",
      "Finished the model with min_df = 0 and max_df =  0.9\n",
      "Finished the model with min_df = 0 and max_df =  1\n",
      "Finished the model with min_df = 0.0005 and max_df =  0.3\n",
      "Finished the model with min_df = 0.0005 and max_df =  0.4\n",
      "Finished the model with min_df = 0.0005 and max_df =  0.5\n",
      "Finished the model with min_df = 0.0005 and max_df =  0.6\n",
      "Finished the model with min_df = 0.0005 and max_df =  0.7\n",
      "Finished the model with min_df = 0.0005 and max_df =  0.8\n",
      "Finished the model with min_df = 0.0005 and max_df =  0.9\n",
      "Finished the model with min_df = 0.0005 and max_df =  1\n",
      "Finished the model with min_df = 0.001 and max_df =  0.3\n",
      "Finished the model with min_df = 0.001 and max_df =  0.4\n",
      "Finished the model with min_df = 0.001 and max_df =  0.5\n",
      "Finished the model with min_df = 0.001 and max_df =  0.6\n",
      "Finished the model with min_df = 0.001 and max_df =  0.7\n",
      "Finished the model with min_df = 0.001 and max_df =  0.8\n",
      "Finished the model with min_df = 0.001 and max_df =  0.9\n",
      "Finished the model with min_df = 0.001 and max_df =  1\n",
      "Finished the model with min_df = 0.0015 and max_df =  0.3\n",
      "Finished the model with min_df = 0.0015 and max_df =  0.4\n",
      "Finished the model with min_df = 0.0015 and max_df =  0.5\n",
      "Finished the model with min_df = 0.0015 and max_df =  0.6\n",
      "Finished the model with min_df = 0.0015 and max_df =  0.7\n",
      "Finished the model with min_df = 0.0015 and max_df =  0.8\n",
      "Finished the model with min_df = 0.0015 and max_df =  0.9\n",
      "Finished the model with min_df = 0.0015 and max_df =  1\n",
      "Finished the model with min_df = 0.002 and max_df =  0.3\n",
      "Finished the model with min_df = 0.002 and max_df =  0.4\n",
      "Finished the model with min_df = 0.002 and max_df =  0.5\n",
      "Finished the model with min_df = 0.002 and max_df =  0.6\n",
      "Finished the model with min_df = 0.002 and max_df =  0.7\n",
      "Finished the model with min_df = 0.002 and max_df =  0.8\n",
      "Finished the model with min_df = 0.002 and max_df =  0.9\n",
      "Finished the model with min_df = 0.002 and max_df =  1\n",
      "Finished the model with min_df = 0.0025 and max_df =  0.3\n",
      "Finished the model with min_df = 0.0025 and max_df =  0.4\n",
      "Finished the model with min_df = 0.0025 and max_df =  0.5\n",
      "Finished the model with min_df = 0.0025 and max_df =  0.6\n",
      "Finished the model with min_df = 0.0025 and max_df =  0.7\n",
      "Finished the model with min_df = 0.0025 and max_df =  0.8\n",
      "Finished the model with min_df = 0.0025 and max_df =  0.9\n",
      "Finished the model with min_df = 0.0025 and max_df =  1\n",
      "Finished the model with min_df = 0.003 and max_df =  0.3\n",
      "Finished the model with min_df = 0.003 and max_df =  0.4\n",
      "Finished the model with min_df = 0.003 and max_df =  0.5\n",
      "Finished the model with min_df = 0.003 and max_df =  0.6\n",
      "Finished the model with min_df = 0.003 and max_df =  0.7\n",
      "Finished the model with min_df = 0.003 and max_df =  0.8\n",
      "Finished the model with min_df = 0.003 and max_df =  0.9\n",
      "Finished the model with min_df = 0.003 and max_df =  1\n",
      "Finished the model with min_df = 0.0035 and max_df =  0.3\n",
      "Finished the model with min_df = 0.0035 and max_df =  0.4\n",
      "Finished the model with min_df = 0.0035 and max_df =  0.5\n",
      "Finished the model with min_df = 0.0035 and max_df =  0.6\n",
      "Finished the model with min_df = 0.0035 and max_df =  0.7\n",
      "Finished the model with min_df = 0.0035 and max_df =  0.8\n",
      "Finished the model with min_df = 0.0035 and max_df =  0.9\n",
      "Finished the model with min_df = 0.0035 and max_df =  1\n",
      "Finished the model with min_df = 0.004 and max_df =  0.3\n",
      "Finished the model with min_df = 0.004 and max_df =  0.4\n",
      "Finished the model with min_df = 0.004 and max_df =  0.5\n",
      "Finished the model with min_df = 0.004 and max_df =  0.6\n",
      "Finished the model with min_df = 0.004 and max_df =  0.7\n",
      "Finished the model with min_df = 0.004 and max_df =  0.8\n",
      "Finished the model with min_df = 0.004 and max_df =  0.9\n",
      "Finished the model with min_df = 0.004 and max_df =  1\n",
      "Finished the model with min_df = 0.0045 and max_df =  0.3\n",
      "Finished the model with min_df = 0.0045 and max_df =  0.4\n",
      "Finished the model with min_df = 0.0045 and max_df =  0.5\n",
      "Finished the model with min_df = 0.0045 and max_df =  0.6\n",
      "Finished the model with min_df = 0.0045 and max_df =  0.7\n",
      "Finished the model with min_df = 0.0045 and max_df =  0.8\n",
      "Finished the model with min_df = 0.0045 and max_df =  0.9\n",
      "Finished the model with min_df = 0.0045 and max_df =  1\n",
      "Finished the model with min_df = 0.005 and max_df =  0.3\n",
      "Finished the model with min_df = 0.005 and max_df =  0.4\n",
      "Finished the model with min_df = 0.005 and max_df =  0.5\n",
      "Finished the model with min_df = 0.005 and max_df =  0.6\n",
      "Finished the model with min_df = 0.005 and max_df =  0.7\n",
      "Finished the model with min_df = 0.005 and max_df =  0.8\n",
      "Finished the model with min_df = 0.005 and max_df =  0.9\n",
      "Finished the model with min_df = 0.005 and max_df =  1\n"
     ]
    }
   ],
   "source": [
    "# Impute Td-idf instead, we also limit the max appearance and min aappearance of a word to be used in the model. By doing so, many useless features will be eliminated. \n",
    "# A gird search is performed to find the best min_df and max_df assuming no change on other hyperparameter of XGBoost yet.\n",
    "# inheritect the model from our initial model\n",
    "\n",
    "mod3 = XGBClassifier(n_estimators = 100, \n",
    "                     learning_rate =0.1, \n",
    "                     max_depth=4,\n",
    "                     subsample = 0.75,\n",
    "                     colsample_bytree = 0.5,\n",
    "                     reg_alpha = 1,\n",
    "                     reg_lambda = 1,\n",
    "                     random_state=42, seed=2, n_jobs = -1)\n",
    "\n",
    "min_df = [0, 0.0005, 0.001, 0.0015, 0.002, 0.0025, 0.003, 0.0035, 0.004, 0.0045, 0.005]\n",
    "max_df = [0.3, 0.4, 0.5, 0.6, 0.7, 0.8, 0.9,1]\n",
    "\n",
    "auc_score = np.zeros((len(min_df), len(max_df)))\n",
    "\n",
    "for i in range(len(min_df)):\n",
    "    for j in range(len(max_df)):\n",
    "        if max_df[j] == 1:\n",
    "            basicvectorizer = TfidfVectorizer(ngram_range=(3,3), min_df = min_df[i])\n",
    "        else:\n",
    "            basicvectorizer = TfidfVectorizer(ngram_range=(3,3), min_df = min_df[i], max_df = max_df[j])\n",
    "        basictrain = basicvectorizer.fit_transform(train.headline)\n",
    "        basictest = basicvectorizer.transform(test.headline)\n",
    "        basicvalidation = basicvectorizer.transform(validation.headline)\n",
    "        \n",
    "        fit3 = mod3.fit(basictrain, train.Movement)\n",
    "        pred3 = fit3.predict(basicvalidation)\n",
    "        pred3_proba = fit3.predict_proba(basicvalidation)\n",
    "        auc_score[i,j] = score(validation.Movement, pred3_proba)\n",
    "        print(\"Finished the model with min_df =\", min_df[i], \"and max_df = \", max_df[j])"
   ]
  },
  {
   "cell_type": "code",
   "execution_count": 37,
   "metadata": {},
   "outputs": [
    {
     "data": {
      "text/plain": [
       "array([0.62063499, 0.62063499, 0.60283696, 0.60283696, 0.61113572,\n",
       "       0.60897944, 0.60897944, 0.61865355, 0.60869971, 0.60869971,\n",
       "       0.60958553])"
      ]
     },
     "execution_count": 37,
     "metadata": {},
     "output_type": "execute_result"
    }
   ],
   "source": [
    "auc_score.max(axis=1)"
   ]
  },
  {
   "cell_type": "code",
   "execution_count": 38,
   "metadata": {},
   "outputs": [
    {
     "data": {
      "text/plain": [
       "array([0.60958553, 0.60880461, 0.60450371, 0.62063499, 0.61113572,\n",
       "       0.61113572, 0.61113572, 0.61113572])"
      ]
     },
     "execution_count": 38,
     "metadata": {},
     "output_type": "execute_result"
    }
   ],
   "source": [
    "auc_score.max(axis=0)"
   ]
  },
  {
   "cell_type": "code",
   "execution_count": 39,
   "metadata": {},
   "outputs": [
    {
     "data": {
      "text/plain": [
       "0.6206349946384446"
      ]
     },
     "execution_count": 39,
     "metadata": {},
     "output_type": "execute_result"
    }
   ],
   "source": [
    "auc_score[1, 3]"
   ]
  },
  {
   "cell_type": "code",
   "execution_count": 36,
   "metadata": {},
   "outputs": [],
   "source": [
    "basicvectorizer = TfidfVectorizer(ngram_range=(3,3), min_df = 0.0005, max_df = 0.6)\n",
    "basictrain = basicvectorizer.fit_transform(train.headline)\n",
    "basictest = basicvectorizer.transform(test.headline)\n",
    "basicvalidation = basicvectorizer.transform(validation.headline)"
   ]
  },
  {
   "cell_type": "markdown",
   "metadata": {},
   "source": [
    "# Hyperparameter Truning"
   ]
  },
  {
   "cell_type": "code",
   "execution_count": 37,
   "metadata": {},
   "outputs": [],
   "source": [
    "n_estimators = [10, 30, 50, 100]\n",
    "max_depth = [1, 2, 4, 6]\n",
    "learning_rate = 0.1\n",
    "subsample = [0.25, 0.5, 0.75, 1]\n",
    "colsample_bytree = [0.25, 0.5, 0.75, 1]\n",
    "reg_alpha = [0, 1, 2]\n",
    "reg_lambda = [0, 1, 2]\n",
    "\n",
    "auc_score = np.zeros((len(n_estimators), len(max_depth), len(subsample), \n",
    "               len(colsample_bytree), len(reg_alpha), len(reg_lambda)))"
   ]
  },
  {
   "cell_type": "code",
   "execution_count": 38,
   "metadata": {},
   "outputs": [
    {
     "name": "stdout",
     "output_type": "stream",
     "text": [
      "Finished the models with max_depth = 1 for n_estimators = 10\n",
      "Finished the models with max_depth = 2 for n_estimators = 10\n",
      "Finished the models with max_depth = 4 for n_estimators = 10\n",
      "Finished the models with max_depth = 6 for n_estimators = 10\n",
      "Finished the models with max_depth = 1 for n_estimators = 30\n",
      "Finished the models with max_depth = 2 for n_estimators = 30\n",
      "Finished the models with max_depth = 4 for n_estimators = 30\n",
      "Finished the models with max_depth = 6 for n_estimators = 30\n",
      "Finished the models with max_depth = 1 for n_estimators = 50\n",
      "Finished the models with max_depth = 2 for n_estimators = 50\n",
      "Finished the models with max_depth = 4 for n_estimators = 50\n",
      "Finished the models with max_depth = 6 for n_estimators = 50\n",
      "Finished the models with max_depth = 1 for n_estimators = 100\n",
      "Finished the models with max_depth = 2 for n_estimators = 100\n",
      "Finished the models with max_depth = 4 for n_estimators = 100\n",
      "Finished the models with max_depth = 6 for n_estimators = 100\n"
     ]
    }
   ],
   "source": [
    "for i in range(len(n_estimators)):\n",
    "    for j in range(len(max_depth)):\n",
    "        for k in range(len(subsample)):\n",
    "            for l in range(len(colsample_bytree)):\n",
    "                for m in range(len(reg_alpha)):\n",
    "                    for n in range(len(reg_lambda)):\n",
    "                        mod = XGBClassifier(learning_rate = learning_rate, \n",
    "                                            n_estimators = n_estimators[i], \n",
    "                                            max_depth = max_depth[j], \n",
    "                                            subsample = subsample[k],\n",
    "                                            colsample_bytree = colsample_bytree[l],\n",
    "                                            reg_alpha = reg_alpha[m],\n",
    "                                            reg_lambda = reg_lambda[n], \n",
    "                                            random_state = 42, seed = 2, n_jobs = -1)\n",
    "                        fit = mod.fit(basictrain, train.Movement)\n",
    "                        pred = fit.predict(basicvalidation)\n",
    "                        pred_proba = fit.predict_proba(basicvalidation)\n",
    "                        auc_score[i,j,k,l,m,n] = score(validation.Movement, pred_proba)\n",
    "        print(\"Finished the models with max_depth =\", max_depth[j], \"for n_estimators =\", n_estimators[i])\n"
   ]
  },
  {
   "cell_type": "code",
   "execution_count": 41,
   "metadata": {},
   "outputs": [
    {
     "data": {
      "text/plain": [
       "array([0.59992307, 0.63979673, 0.64229102, 0.6525479 ])"
      ]
     },
     "execution_count": 41,
     "metadata": {},
     "output_type": "execute_result"
    }
   ],
   "source": [
    "auc_score.max(axis = 5).max(axis = 4).max(axis = 3).max(axis = 2).max(axis = 1)"
   ]
  },
  {
   "cell_type": "code",
   "execution_count": 42,
   "metadata": {},
   "outputs": [
    {
     "data": {
      "text/plain": [
       "array([0.62671919, 0.6525479 , 0.64537974, 0.64577603])"
      ]
     },
     "execution_count": 42,
     "metadata": {},
     "output_type": "execute_result"
    }
   ],
   "source": [
    "auc_score.max(axis = 5).max(axis = 4).max(axis = 3).max(axis = 2).max(axis = 0)"
   ]
  },
  {
   "cell_type": "code",
   "execution_count": 43,
   "metadata": {},
   "outputs": [
    {
     "data": {
      "text/plain": [
       "array([0.59985314, 0.61612429, 0.63926057, 0.6525479 ])"
      ]
     },
     "execution_count": 43,
     "metadata": {},
     "output_type": "execute_result"
    }
   ],
   "source": [
    "auc_score.max(axis = 5).max(axis = 4).max(axis = 3).max(axis = 1).max(axis = 0)"
   ]
  },
  {
   "cell_type": "code",
   "execution_count": 44,
   "metadata": {},
   "outputs": [
    {
     "data": {
      "text/plain": [
       "array([0.6525479 , 0.65041494, 0.62810621, 0.63181267])"
      ]
     },
     "execution_count": 44,
     "metadata": {},
     "output_type": "execute_result"
    }
   ],
   "source": [
    "auc_score.max(axis = 5).max(axis = 4).max(axis = 2).max(axis = 1).max(axis = 0)"
   ]
  },
  {
   "cell_type": "code",
   "execution_count": 45,
   "metadata": {},
   "outputs": [
    {
     "data": {
      "text/plain": [
       "array([0.6525479 , 0.63617185, 0.63699939])"
      ]
     },
     "execution_count": 45,
     "metadata": {},
     "output_type": "execute_result"
    }
   ],
   "source": [
    "auc_score.max(axis = 5).max(axis = 3).max(axis = 2).max(axis = 1).max(axis = 0)"
   ]
  },
  {
   "cell_type": "code",
   "execution_count": 46,
   "metadata": {},
   "outputs": [
    {
     "data": {
      "text/plain": [
       "array([0.6525479 , 0.63844468, 0.62082148])"
      ]
     },
     "execution_count": 46,
     "metadata": {},
     "output_type": "execute_result"
    }
   ],
   "source": [
    "auc_score.max(axis = 4).max(axis = 3).max(axis = 2).max(axis = 1).max(axis = 0)"
   ]
  },
  {
   "cell_type": "code",
   "execution_count": 47,
   "metadata": {},
   "outputs": [
    {
     "data": {
      "text/plain": [
       "0.6525479043312044"
      ]
     },
     "execution_count": 47,
     "metadata": {},
     "output_type": "execute_result"
    }
   ],
   "source": [
    "auc_score[3, 1, 3, 0, 0, 0]"
   ]
  },
  {
   "cell_type": "markdown",
   "metadata": {},
   "source": [
    "We choose hyperparameter:\n",
    "\n",
    "n_estimators = 100\n",
    "\n",
    "max_depth = 2\n",
    "\n",
    "subsample = 1\n",
    "\n",
    "colsample_bytree = 0.25\n",
    "\n",
    "reg_alpha = 0\n",
    "\n",
    "reg_lambda = 0\n",
    "\n",
    "As our finalised 3-grams model"
   ]
  },
  {
   "cell_type": "markdown",
   "metadata": {},
   "source": [
    "# Finallised 3-grams model"
   ]
  },
  {
   "cell_type": "code",
   "execution_count": 99,
   "metadata": {},
   "outputs": [
    {
     "data": {
      "image/png": "[encoded data removed]",
      "text/plain": [
       "<Figure size 180x180 with 1 Axes>"
      ]
     },
     "metadata": {
      "needs_background": "light"
     },
     "output_type": "display_data"
    },
    {
     "name": "stdout",
     "output_type": "stream",
     "text": [
      "              precision    recall  f1-score   support\n",
      "\n",
      "           0       0.95      0.78      0.86       591\n",
      "           1       0.84      0.96      0.89       680\n",
      "\n",
      "    accuracy                           0.88      1271\n",
      "   macro avg       0.89      0.87      0.88      1271\n",
      "weighted avg       0.89      0.88      0.88      1271\n",
      "\n"
     ]
    },
    {
     "data": {
      "image/png": "[encoded data removed]",
      "text/plain": [
       "<Figure size 432x288 with 1 Axes>"
      ]
     },
     "metadata": {
      "needs_background": "light"
     },
     "output_type": "display_data"
    },
    {
     "data": {
      "text/plain": [
       "0.9574176371056038"
      ]
     },
     "execution_count": 99,
     "metadata": {},
     "output_type": "execute_result"
    }
   ],
   "source": [
    "basicvectorizer = TfidfVectorizer(ngram_range=(3,3), min_df = 0.0005, max_df = 0.6)\n",
    "basictrain = basicvectorizer.fit_transform(train.headline)\n",
    "basictest = basicvectorizer.transform(test.headline)\n",
    "basicvalidation = basicvectorizer.transform(validation.headline)\n",
    "\n",
    "mod3 = XGBClassifier(n_estimators = 100, \n",
    "                     learning_rate =0.1, \n",
    "                     max_depth=2,\n",
    "                     subsample = 1,\n",
    "                     colsample_bytree = 0.25,\n",
    "                     reg_alpha = 0,\n",
    "                     reg_lambda = 0,\n",
    "                     random_state=42, seed=2, n_jobs = -1)\n",
    "\n",
    "fit3 = mod3.fit(basictrain, train.Movement)\n",
    "\n",
    "pred3_train = fit3.predict(basictrain)\n",
    "pred3_proba_train = fit3.predict_proba(basictrain)\n",
    "\n",
    "pred3 = fit3.predict(basicvalidation)\n",
    "pred3_proba = fit3.predict_proba(basicvalidation)\n",
    "\n",
    "pred3_test = fit3.predict(basictest)\n",
    "pred3_proba_test = fit3.predict_proba(basictest)\n",
    "\n",
    "performance(train.Movement, pred3_train, pred3_proba_train)"
   ]
  },
  {
   "cell_type": "code",
   "execution_count": 100,
   "metadata": {},
   "outputs": [
    {
     "data": {
      "image/png": "[encoded data removed]",
      "text/plain": [
       "<Figure size 180x180 with 1 Axes>"
      ]
     },
     "metadata": {
      "needs_background": "light"
     },
     "output_type": "display_data"
    },
    {
     "name": "stdout",
     "output_type": "stream",
     "text": [
      "              precision    recall  f1-score   support\n",
      "\n",
      "           0       0.56      0.47      0.51       178\n",
      "           1       0.65      0.73      0.68       241\n",
      "\n",
      "    accuracy                           0.62       419\n",
      "   macro avg       0.60      0.60      0.60       419\n",
      "weighted avg       0.61      0.62      0.61       419\n",
      "\n"
     ]
    },
    {
     "data": {
      "image/png": "[encoded data removed]",
      "text/plain": [
       "<Figure size 432x288 with 1 Axes>"
      ]
     },
     "metadata": {
      "needs_background": "light"
     },
     "output_type": "display_data"
    },
    {
     "data": {
      "text/plain": [
       "0.6525479043312044"
      ]
     },
     "execution_count": 100,
     "metadata": {},
     "output_type": "execute_result"
    }
   ],
   "source": [
    "performance(validation.Movement, pred3, pred3_proba)"
   ]
  },
  {
   "cell_type": "code",
   "execution_count": 101,
   "metadata": {},
   "outputs": [
    {
     "data": {
      "image/png": "[encoded data removed]",
      "text/plain": [
       "<Figure size 180x180 with 1 Axes>"
      ]
     },
     "metadata": {
      "needs_background": "light"
     },
     "output_type": "display_data"
    },
    {
     "name": "stdout",
     "output_type": "stream",
     "text": [
      "              precision    recall  f1-score   support\n",
      "\n",
      "           0       0.70      0.24      0.36       189\n",
      "           1       0.60      0.91      0.72       233\n",
      "\n",
      "    accuracy                           0.61       422\n",
      "   macro avg       0.65      0.58      0.54       422\n",
      "weighted avg       0.64      0.61      0.56       422\n",
      "\n"
     ]
    },
    {
     "data": {
      "image/png": "[encoded data removed]",
      "text/plain": [
       "<Figure size 432x288 with 1 Axes>"
      ]
     },
     "metadata": {
      "needs_background": "light"
     },
     "output_type": "display_data"
    },
    {
     "data": {
      "text/plain": [
       "0.613802030111043"
      ]
     },
     "execution_count": 101,
     "metadata": {},
     "output_type": "execute_result"
    }
   ],
   "source": [
    "performance(test.Movement, pred3_test, pred3_proba_test)"
   ]
  },
  {
   "cell_type": "code",
   "execution_count": 49,
   "metadata": {},
   "outputs": [
    {
     "data": {
      "text/html": [
       "<div>\n",
       "<style scoped>\n",
       "    .dataframe tbody tr th:only-of-type {\n",
       "        vertical-align: middle;\n",
       "    }\n",
       "\n",
       "    .dataframe tbody tr th {\n",
       "        vertical-align: top;\n",
       "    }\n",
       "\n",
       "    .dataframe thead th {\n",
       "        text-align: right;\n",
       "    }\n",
       "</style>\n",
       "<table border=\"1\" class=\"dataframe\">\n",
       "  <thead>\n",
       "    <tr style=\"text-align: right;\">\n",
       "      <th></th>\n",
       "      <th>Words</th>\n",
       "      <th>Feature Importance</th>\n",
       "    </tr>\n",
       "  </thead>\n",
       "  <tbody>\n",
       "    <tr>\n",
       "      <th>1828282</th>\n",
       "      <td>stock add gain</td>\n",
       "      <td>0.018668</td>\n",
       "    </tr>\n",
       "    <tr>\n",
       "      <th>230914</th>\n",
       "      <td>blog stock fall</td>\n",
       "      <td>0.017753</td>\n",
       "    </tr>\n",
       "    <tr>\n",
       "      <th>230962</th>\n",
       "      <td>blog stock hold</td>\n",
       "      <td>0.016464</td>\n",
       "    </tr>\n",
       "    <tr>\n",
       "      <th>1845661</th>\n",
       "      <td>stock open low</td>\n",
       "      <td>0.014399</td>\n",
       "    </tr>\n",
       "    <tr>\n",
       "      <th>1845652</th>\n",
       "      <td>stock open high</td>\n",
       "      <td>0.014251</td>\n",
       "    </tr>\n",
       "    <tr>\n",
       "      <th>1836067</th>\n",
       "      <td>stock extend loss</td>\n",
       "      <td>0.014205</td>\n",
       "    </tr>\n",
       "    <tr>\n",
       "      <th>266725</th>\n",
       "      <td>brief thing know</td>\n",
       "      <td>0.014105</td>\n",
       "    </tr>\n",
       "    <tr>\n",
       "      <th>1836064</th>\n",
       "      <td>stock extend gain</td>\n",
       "      <td>0.013728</td>\n",
       "    </tr>\n",
       "    <tr>\n",
       "      <th>546583</th>\n",
       "      <td>diamond rough tale</td>\n",
       "      <td>0.013700</td>\n",
       "    </tr>\n",
       "    <tr>\n",
       "      <th>1638502</th>\n",
       "      <td>rise unusual volume</td>\n",
       "      <td>0.013273</td>\n",
       "    </tr>\n",
       "    <tr>\n",
       "      <th>1835493</th>\n",
       "      <td>stock end low</td>\n",
       "      <td>0.013242</td>\n",
       "    </tr>\n",
       "    <tr>\n",
       "      <th>2088976</th>\n",
       "      <td>vetr community upgrade</td>\n",
       "      <td>0.012880</td>\n",
       "    </tr>\n",
       "    <tr>\n",
       "      <th>1210614</th>\n",
       "      <td>might diamond rough</td>\n",
       "      <td>0.012830</td>\n",
       "    </tr>\n",
       "    <tr>\n",
       "      <th>738525</th>\n",
       "      <td>financial group sivb</td>\n",
       "      <td>0.012736</td>\n",
       "    </tr>\n",
       "    <tr>\n",
       "      <th>2088975</th>\n",
       "      <td>vetr community downgrade</td>\n",
       "      <td>0.011791</td>\n",
       "    </tr>\n",
       "    <tr>\n",
       "      <th>1857875</th>\n",
       "      <td>stock wrap low</td>\n",
       "      <td>0.011309</td>\n",
       "    </tr>\n",
       "    <tr>\n",
       "      <th>1217903</th>\n",
       "      <td>miss analyst blog</td>\n",
       "      <td>0.011285</td>\n",
       "    </tr>\n",
       "    <tr>\n",
       "      <th>1271380</th>\n",
       "      <td>near session high</td>\n",
       "      <td>0.011198</td>\n",
       "    </tr>\n",
       "    <tr>\n",
       "      <th>231128</th>\n",
       "      <td>blog stock rise</td>\n",
       "      <td>0.011154</td>\n",
       "    </tr>\n",
       "    <tr>\n",
       "      <th>1271381</th>\n",
       "      <td>near session low</td>\n",
       "      <td>0.011131</td>\n",
       "    </tr>\n",
       "  </tbody>\n",
       "</table>\n",
       "</div>"
      ],
      "text/plain": [
       "                            Words  Feature Importance\n",
       "1828282            stock add gain            0.018668\n",
       "230914            blog stock fall            0.017753\n",
       "230962            blog stock hold            0.016464\n",
       "1845661            stock open low            0.014399\n",
       "1845652           stock open high            0.014251\n",
       "1836067         stock extend loss            0.014205\n",
       "266725           brief thing know            0.014105\n",
       "1836064         stock extend gain            0.013728\n",
       "546583         diamond rough tale            0.013700\n",
       "1638502       rise unusual volume            0.013273\n",
       "1835493             stock end low            0.013242\n",
       "2088976    vetr community upgrade            0.012880\n",
       "1210614       might diamond rough            0.012830\n",
       "738525       financial group sivb            0.012736\n",
       "2088975  vetr community downgrade            0.011791\n",
       "1857875            stock wrap low            0.011309\n",
       "1217903         miss analyst blog            0.011285\n",
       "1271380         near session high            0.011198\n",
       "231128            blog stock rise            0.011154\n",
       "1271381          near session low            0.011131"
      ]
     },
     "execution_count": 49,
     "metadata": {},
     "output_type": "execute_result"
    }
   ],
   "source": [
    "mod3words = basicvectorizer.get_feature_names()\n",
    "fi = fit3.feature_importances_\n",
    "fidf = pd.DataFrame({'Words' : mod3words, \n",
    "                        'Feature Importance' : fi})\n",
    "\n",
    "fidf = fidf.sort_values(['Feature Importance', 'Words'], ascending=[0, 1])\n",
    "fidf.head(20)"
   ]
  },
  {
   "cell_type": "markdown",
   "metadata": {},
   "source": [
    "The 1 gram, 2 grams and 3 grams models have testing performance of 57.3, 68.2, 61.4 AUC respectively. It show the relation between financial news and the market! However, These models obversiously weak learners. Can e further improve the model by using all three model prediction?"
   ]
  },
  {
   "cell_type": "markdown",
   "metadata": {},
   "source": [
    "# Ensemble Model using 3 weak learners"
   ]
  },
  {
   "cell_type": "markdown",
   "metadata": {},
   "source": [
    "In this section, we use the prediction on validation set from these models as the features and regress them to the actual classification. Theoretically, the final error rate will be reduced as the input is not totally dependent. "
   ]
  },
  {
   "cell_type": "code",
   "execution_count": 102,
   "metadata": {},
   "outputs": [],
   "source": [
    "E_validation = pd.DataFrame({\"y\": validation.Movement, \"x1\": pd.DataFrame(pred1_proba)[1], \"x2\": pd.DataFrame(pred2_proba)[1], \"x3\": pd.DataFrame(pred3_proba)[1]} )"
   ]
  },
  {
   "cell_type": "code",
   "execution_count": 103,
   "metadata": {},
   "outputs": [],
   "source": [
    "E_test = pd.DataFrame({\"y\": test.Movement, \"x1\": pd.DataFrame(pred1_proba_test)[1], \"x2\": pd.DataFrame(pred2_proba_test)[1], \"x3\": pd.DataFrame(pred3_proba_test)[1]} )"
   ]
  },
  {
   "cell_type": "code",
   "execution_count": 104,
   "metadata": {},
   "outputs": [
    {
     "data": {
      "text/html": [
       "<div>\n",
       "<style scoped>\n",
       "    .dataframe tbody tr th:only-of-type {\n",
       "        vertical-align: middle;\n",
       "    }\n",
       "\n",
       "    .dataframe tbody tr th {\n",
       "        vertical-align: top;\n",
       "    }\n",
       "\n",
       "    .dataframe thead th {\n",
       "        text-align: right;\n",
       "    }\n",
       "</style>\n",
       "<table border=\"1\" class=\"dataframe\">\n",
       "  <thead>\n",
       "    <tr style=\"text-align: right;\">\n",
       "      <th></th>\n",
       "      <th>y</th>\n",
       "      <th>x1</th>\n",
       "      <th>x2</th>\n",
       "      <th>x3</th>\n",
       "    </tr>\n",
       "  </thead>\n",
       "  <tbody>\n",
       "    <tr>\n",
       "      <th>0</th>\n",
       "      <td>0</td>\n",
       "      <td>0.393619</td>\n",
       "      <td>0.556218</td>\n",
       "      <td>0.491502</td>\n",
       "    </tr>\n",
       "    <tr>\n",
       "      <th>1</th>\n",
       "      <td>0</td>\n",
       "      <td>0.753973</td>\n",
       "      <td>0.502511</td>\n",
       "      <td>0.534821</td>\n",
       "    </tr>\n",
       "    <tr>\n",
       "      <th>2</th>\n",
       "      <td>0</td>\n",
       "      <td>0.403150</td>\n",
       "      <td>0.464426</td>\n",
       "      <td>0.534821</td>\n",
       "    </tr>\n",
       "    <tr>\n",
       "      <th>3</th>\n",
       "      <td>1</td>\n",
       "      <td>0.646255</td>\n",
       "      <td>0.258831</td>\n",
       "      <td>0.534821</td>\n",
       "    </tr>\n",
       "    <tr>\n",
       "      <th>4</th>\n",
       "      <td>1</td>\n",
       "      <td>0.255079</td>\n",
       "      <td>0.900774</td>\n",
       "      <td>0.534821</td>\n",
       "    </tr>\n",
       "  </tbody>\n",
       "</table>\n",
       "</div>"
      ],
      "text/plain": [
       "   y        x1        x2        x3\n",
       "0  0  0.393619  0.556218  0.491502\n",
       "1  0  0.753973  0.502511  0.534821\n",
       "2  0  0.403150  0.464426  0.534821\n",
       "3  1  0.646255  0.258831  0.534821\n",
       "4  1  0.255079  0.900774  0.534821"
      ]
     },
     "execution_count": 104,
     "metadata": {},
     "output_type": "execute_result"
    }
   ],
   "source": [
    "E_validation.head()"
   ]
  },
  {
   "cell_type": "code",
   "execution_count": 105,
   "metadata": {},
   "outputs": [],
   "source": [
    "en1 =  LogisticRegression(solver = \"liblinear\")"
   ]
  },
  {
   "cell_type": "code",
   "execution_count": 106,
   "metadata": {},
   "outputs": [
    {
     "data": {
      "image/png": "[encoded data removed]",
      "text/plain": [
       "<Figure size 180x180 with 1 Axes>"
      ]
     },
     "metadata": {
      "needs_background": "light"
     },
     "output_type": "display_data"
    },
    {
     "name": "stdout",
     "output_type": "stream",
     "text": [
      "              precision    recall  f1-score   support\n",
      "\n",
      "           0       0.66      0.36      0.47       189\n",
      "           1       0.62      0.85      0.72       233\n",
      "\n",
      "    accuracy                           0.63       422\n",
      "   macro avg       0.64      0.60      0.59       422\n",
      "weighted avg       0.64      0.63      0.60       422\n",
      "\n"
     ]
    },
    {
     "data": {
      "image/png": "[encoded data removed]",
      "text/plain": [
       "<Figure size 432x288 with 1 Axes>"
      ]
     },
     "metadata": {
      "needs_background": "light"
     },
     "output_type": "display_data"
    },
    {
     "data": {
      "text/plain": [
       "0.6897835910711447"
      ]
     },
     "execution_count": 106,
     "metadata": {},
     "output_type": "execute_result"
    }
   ],
   "source": [
    "fin_mod = en1.fit(E_validation.iloc[:, 1:4], E_validation.y)\n",
    "fin_pred = fin_mod.predict(E_test.iloc[:, 1:4])\n",
    "fin_pred_proba = fin_mod.predict_proba(E_test.iloc[:, 1:4])\n",
    "performance(E_test.y, fin_pred, fin_pred_proba)"
   ]
  },
  {
   "cell_type": "code",
   "execution_count": 107,
   "metadata": {
    "scrolled": true
   },
   "outputs": [
    {
     "data": {
      "text/plain": [
       "array([[2.06463072, 3.44993756, 0.32050959]])"
      ]
     },
     "execution_count": 107,
     "metadata": {},
     "output_type": "execute_result"
    }
   ],
   "source": [
    "fin_mod.coef_"
   ]
  },
  {
   "cell_type": "code",
   "execution_count": 108,
   "metadata": {},
   "outputs": [
    {
     "data": {
      "image/png": "[encoded data removed]",
      "text/plain": [
       "<Figure size 180x180 with 1 Axes>"
      ]
     },
     "metadata": {
      "needs_background": "light"
     },
     "output_type": "display_data"
    },
    {
     "name": "stdout",
     "output_type": "stream",
     "text": [
      "              precision    recall  f1-score   support\n",
      "\n",
      "           0       0.58      0.50      0.53       189\n",
      "           1       0.63      0.70      0.67       233\n",
      "\n",
      "    accuracy                           0.61       422\n",
      "   macro avg       0.60      0.60      0.60       422\n",
      "weighted avg       0.61      0.61      0.61       422\n",
      "\n"
     ]
    },
    {
     "data": {
      "image/png": "[encoded data removed]",
      "text/plain": [
       "<Figure size 432x288 with 1 Axes>"
      ]
     },
     "metadata": {
      "needs_background": "light"
     },
     "output_type": "display_data"
    },
    {
     "data": {
      "text/plain": [
       "0.6551763289960715"
      ]
     },
     "execution_count": 108,
     "metadata": {},
     "output_type": "execute_result"
    }
   ],
   "source": [
    "en2 = XGBClassifier()\n",
    "fin_mod2 = en2.fit(E_validation.iloc[:, 1:4], E_validation.y)\n",
    "fin_pred2 = fin_mod2.predict(E_test.iloc[:, 1:4])\n",
    "fin_pred2_proba = fin_mod2.predict_proba(E_test.iloc[:, 1:4])\n",
    "performance(E_test.y, fin_pred2, fin_pred2_proba)"
   ]
  },
  {
   "cell_type": "code",
   "execution_count": 109,
   "metadata": {},
   "outputs": [
    {
     "data": {
      "image/png": "[encoded data removed]",
      "text/plain": [
       "<Figure size 180x180 with 1 Axes>"
      ]
     },
     "metadata": {
      "needs_background": "light"
     },
     "output_type": "display_data"
    },
    {
     "name": "stdout",
     "output_type": "stream",
     "text": [
      "              precision    recall  f1-score   support\n",
      "\n",
      "           0       0.62      0.51      0.56       189\n",
      "           1       0.65      0.75      0.70       233\n",
      "\n",
      "    accuracy                           0.64       422\n",
      "   macro avg       0.64      0.63      0.63       422\n",
      "weighted avg       0.64      0.64      0.63       422\n",
      "\n"
     ]
    },
    {
     "data": {
      "image/png": "[encoded data removed]",
      "text/plain": [
       "<Figure size 432x288 with 1 Axes>"
      ]
     },
     "metadata": {
      "needs_background": "light"
     },
     "output_type": "display_data"
    },
    {
     "data": {
      "text/plain": [
       "0.6701069555146808"
      ]
     },
     "execution_count": 109,
     "metadata": {},
     "output_type": "execute_result"
    }
   ],
   "source": [
    "en3 =  svm.SVC(probability=True)\n",
    "fin_mod3 = en3.fit(E_validation.iloc[:, 1:4], E_validation.y)\n",
    "fin_pred3 = fin_mod3.predict(E_test.iloc[:, 1:4])\n",
    "fin_pred3_proba = fin_mod3.predict_proba(E_test.iloc[:, 1:4])\n",
    "performance(E_test.y, fin_pred3, fin_pred3_proba)"
   ]
  },
  {
   "cell_type": "code",
   "execution_count": 111,
   "metadata": {},
   "outputs": [
    {
     "data": {
      "image/png": "[encoded data removed]",
      "text/plain": [
       "<Figure size 180x180 with 1 Axes>"
      ]
     },
     "metadata": {
      "needs_background": "light"
     },
     "output_type": "display_data"
    },
    {
     "name": "stdout",
     "output_type": "stream",
     "text": [
      "              precision    recall  f1-score   support\n",
      "\n",
      "           0       0.56      0.50      0.53       189\n",
      "           1       0.63      0.69      0.66       233\n",
      "\n",
      "    accuracy                           0.60       422\n",
      "   macro avg       0.60      0.59      0.59       422\n",
      "weighted avg       0.60      0.60      0.60       422\n",
      "\n"
     ]
    },
    {
     "data": {
      "image/png": "[encoded data removed]",
      "text/plain": [
       "<Figure size 432x288 with 1 Axes>"
      ]
     },
     "metadata": {
      "needs_background": "light"
     },
     "output_type": "display_data"
    },
    {
     "data": {
      "text/plain": [
       "0.6406203874015033"
      ]
     },
     "execution_count": 111,
     "metadata": {},
     "output_type": "execute_result"
    }
   ],
   "source": [
    "en4 = RandomForestClassifier()\n",
    "fin_mod4 = en4.fit(E_validation.iloc[:, 1:4], E_validation.y)\n",
    "fin_pred4 = fin_mod4.predict(E_test.iloc[:, 1:4])\n",
    "fin_pred4_proba = fin_mod4.predict_proba(E_test.iloc[:, 1:4])\n",
    "performance(E_test.y, fin_pred4, fin_pred4_proba)"
   ]
  },
  {
   "cell_type": "markdown",
   "metadata": {},
   "source": [
    "Combination of models using L2 logistic Regression provides us a slightly better performance, 0.69 AUC, 63% accuracy. If one can win over 0.63 in the financial market, he will gain a lot. Next, we will need to check whether the financial news is a leading or lagging indicator. "
   ]
  },
  {
   "cell_type": "code",
   "execution_count": null,
   "metadata": {},
   "outputs": [],
   "source": []
  }
 ],
 "metadata": {
  "kernelspec": {
   "display_name": "Python 3",
   "language": "python",
   "name": "python3"
  },
  "language_info": {
   "codemirror_mode": {
    "name": "ipython",
    "version": 3
   },
   "file_extension": ".py",
   "mimetype": "text/x-python",
   "name": "python",
   "nbconvert_exporter": "python",
   "pygments_lexer": "ipython3",
   "version": "3.8.5"
  }
 },
 "nbformat": 4,
 "nbformat_minor": 4
}
